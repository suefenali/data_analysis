{
 "cells": [
  {
   "cell_type": "code",
   "execution_count": 1,
   "metadata": {},
   "outputs": [
    {
     "data": {
      "text/html": [
       "\n",
       "    <div class=\"bk-root\">\n",
       "        <a href=\"https://bokeh.pydata.org\" target=\"_blank\" class=\"bk-logo bk-logo-small bk-logo-notebook\"></a>\n",
       "        <span id=\"1001\">Loading BokehJS ...</span>\n",
       "    </div>"
      ]
     },
     "metadata": {},
     "output_type": "display_data"
    },
    {
     "data": {
      "application/javascript": [
       "\n",
       "(function(root) {\n",
       "  function now() {\n",
       "    return new Date();\n",
       "  }\n",
       "\n",
       "  var force = true;\n",
       "\n",
       "  if (typeof (root._bokeh_onload_callbacks) === \"undefined\" || force === true) {\n",
       "    root._bokeh_onload_callbacks = [];\n",
       "    root._bokeh_is_loading = undefined;\n",
       "  }\n",
       "\n",
       "  var JS_MIME_TYPE = 'application/javascript';\n",
       "  var HTML_MIME_TYPE = 'text/html';\n",
       "  var EXEC_MIME_TYPE = 'application/vnd.bokehjs_exec.v0+json';\n",
       "  var CLASS_NAME = 'output_bokeh rendered_html';\n",
       "\n",
       "  /**\n",
       "   * Render data to the DOM node\n",
       "   */\n",
       "  function render(props, node) {\n",
       "    var script = document.createElement(\"script\");\n",
       "    node.appendChild(script);\n",
       "  }\n",
       "\n",
       "  /**\n",
       "   * Handle when an output is cleared or removed\n",
       "   */\n",
       "  function handleClearOutput(event, handle) {\n",
       "    var cell = handle.cell;\n",
       "\n",
       "    var id = cell.output_area._bokeh_element_id;\n",
       "    var server_id = cell.output_area._bokeh_server_id;\n",
       "    // Clean up Bokeh references\n",
       "    if (id != null && id in Bokeh.index) {\n",
       "      Bokeh.index[id].model.document.clear();\n",
       "      delete Bokeh.index[id];\n",
       "    }\n",
       "\n",
       "    if (server_id !== undefined) {\n",
       "      // Clean up Bokeh references\n",
       "      var cmd = \"from bokeh.io.state import curstate; print(curstate().uuid_to_server['\" + server_id + \"'].get_sessions()[0].document.roots[0]._id)\";\n",
       "      cell.notebook.kernel.execute(cmd, {\n",
       "        iopub: {\n",
       "          output: function(msg) {\n",
       "            var id = msg.content.text.trim();\n",
       "            if (id in Bokeh.index) {\n",
       "              Bokeh.index[id].model.document.clear();\n",
       "              delete Bokeh.index[id];\n",
       "            }\n",
       "          }\n",
       "        }\n",
       "      });\n",
       "      // Destroy server and session\n",
       "      var cmd = \"import bokeh.io.notebook as ion; ion.destroy_server('\" + server_id + \"')\";\n",
       "      cell.notebook.kernel.execute(cmd);\n",
       "    }\n",
       "  }\n",
       "\n",
       "  /**\n",
       "   * Handle when a new output is added\n",
       "   */\n",
       "  function handleAddOutput(event, handle) {\n",
       "    var output_area = handle.output_area;\n",
       "    var output = handle.output;\n",
       "\n",
       "    // limit handleAddOutput to display_data with EXEC_MIME_TYPE content only\n",
       "    if ((output.output_type != \"display_data\") || (!output.data.hasOwnProperty(EXEC_MIME_TYPE))) {\n",
       "      return\n",
       "    }\n",
       "\n",
       "    var toinsert = output_area.element.find(\".\" + CLASS_NAME.split(' ')[0]);\n",
       "\n",
       "    if (output.metadata[EXEC_MIME_TYPE][\"id\"] !== undefined) {\n",
       "      toinsert[toinsert.length - 1].firstChild.textContent = output.data[JS_MIME_TYPE];\n",
       "      // store reference to embed id on output_area\n",
       "      output_area._bokeh_element_id = output.metadata[EXEC_MIME_TYPE][\"id\"];\n",
       "    }\n",
       "    if (output.metadata[EXEC_MIME_TYPE][\"server_id\"] !== undefined) {\n",
       "      var bk_div = document.createElement(\"div\");\n",
       "      bk_div.innerHTML = output.data[HTML_MIME_TYPE];\n",
       "      var script_attrs = bk_div.children[0].attributes;\n",
       "      for (var i = 0; i < script_attrs.length; i++) {\n",
       "        toinsert[toinsert.length - 1].firstChild.setAttribute(script_attrs[i].name, script_attrs[i].value);\n",
       "      }\n",
       "      // store reference to server id on output_area\n",
       "      output_area._bokeh_server_id = output.metadata[EXEC_MIME_TYPE][\"server_id\"];\n",
       "    }\n",
       "  }\n",
       "\n",
       "  function register_renderer(events, OutputArea) {\n",
       "\n",
       "    function append_mime(data, metadata, element) {\n",
       "      // create a DOM node to render to\n",
       "      var toinsert = this.create_output_subarea(\n",
       "        metadata,\n",
       "        CLASS_NAME,\n",
       "        EXEC_MIME_TYPE\n",
       "      );\n",
       "      this.keyboard_manager.register_events(toinsert);\n",
       "      // Render to node\n",
       "      var props = {data: data, metadata: metadata[EXEC_MIME_TYPE]};\n",
       "      render(props, toinsert[toinsert.length - 1]);\n",
       "      element.append(toinsert);\n",
       "      return toinsert\n",
       "    }\n",
       "\n",
       "    /* Handle when an output is cleared or removed */\n",
       "    events.on('clear_output.CodeCell', handleClearOutput);\n",
       "    events.on('delete.Cell', handleClearOutput);\n",
       "\n",
       "    /* Handle when a new output is added */\n",
       "    events.on('output_added.OutputArea', handleAddOutput);\n",
       "\n",
       "    /**\n",
       "     * Register the mime type and append_mime function with output_area\n",
       "     */\n",
       "    OutputArea.prototype.register_mime_type(EXEC_MIME_TYPE, append_mime, {\n",
       "      /* Is output safe? */\n",
       "      safe: true,\n",
       "      /* Index of renderer in `output_area.display_order` */\n",
       "      index: 0\n",
       "    });\n",
       "  }\n",
       "\n",
       "  // register the mime type if in Jupyter Notebook environment and previously unregistered\n",
       "  if (root.Jupyter !== undefined) {\n",
       "    var events = require('base/js/events');\n",
       "    var OutputArea = require('notebook/js/outputarea').OutputArea;\n",
       "\n",
       "    if (OutputArea.prototype.mime_types().indexOf(EXEC_MIME_TYPE) == -1) {\n",
       "      register_renderer(events, OutputArea);\n",
       "    }\n",
       "  }\n",
       "\n",
       "  \n",
       "  if (typeof (root._bokeh_timeout) === \"undefined\" || force === true) {\n",
       "    root._bokeh_timeout = Date.now() + 5000;\n",
       "    root._bokeh_failed_load = false;\n",
       "  }\n",
       "\n",
       "  var NB_LOAD_WARNING = {'data': {'text/html':\n",
       "     \"<div style='background-color: #fdd'>\\n\"+\n",
       "     \"<p>\\n\"+\n",
       "     \"BokehJS does not appear to have successfully loaded. If loading BokehJS from CDN, this \\n\"+\n",
       "     \"may be due to a slow or bad network connection. Possible fixes:\\n\"+\n",
       "     \"</p>\\n\"+\n",
       "     \"<ul>\\n\"+\n",
       "     \"<li>re-rerun `output_notebook()` to attempt to load from CDN again, or</li>\\n\"+\n",
       "     \"<li>use INLINE resources instead, as so:</li>\\n\"+\n",
       "     \"</ul>\\n\"+\n",
       "     \"<code>\\n\"+\n",
       "     \"from bokeh.resources import INLINE\\n\"+\n",
       "     \"output_notebook(resources=INLINE)\\n\"+\n",
       "     \"</code>\\n\"+\n",
       "     \"</div>\"}};\n",
       "\n",
       "  function display_loaded() {\n",
       "    var el = document.getElementById(\"1001\");\n",
       "    if (el != null) {\n",
       "      el.textContent = \"BokehJS is loading...\";\n",
       "    }\n",
       "    if (root.Bokeh !== undefined) {\n",
       "      if (el != null) {\n",
       "        el.textContent = \"BokehJS \" + root.Bokeh.version + \" successfully loaded.\";\n",
       "      }\n",
       "    } else if (Date.now() < root._bokeh_timeout) {\n",
       "      setTimeout(display_loaded, 100)\n",
       "    }\n",
       "  }\n",
       "\n",
       "\n",
       "  function run_callbacks() {\n",
       "    try {\n",
       "      root._bokeh_onload_callbacks.forEach(function(callback) { callback() });\n",
       "    }\n",
       "    finally {\n",
       "      delete root._bokeh_onload_callbacks\n",
       "    }\n",
       "    console.info(\"Bokeh: all callbacks have finished\");\n",
       "  }\n",
       "\n",
       "  function load_libs(js_urls, callback) {\n",
       "    root._bokeh_onload_callbacks.push(callback);\n",
       "    if (root._bokeh_is_loading > 0) {\n",
       "      console.log(\"Bokeh: BokehJS is being loaded, scheduling callback at\", now());\n",
       "      return null;\n",
       "    }\n",
       "    if (js_urls == null || js_urls.length === 0) {\n",
       "      run_callbacks();\n",
       "      return null;\n",
       "    }\n",
       "    console.log(\"Bokeh: BokehJS not loaded, scheduling load and callback at\", now());\n",
       "    root._bokeh_is_loading = js_urls.length;\n",
       "    for (var i = 0; i < js_urls.length; i++) {\n",
       "      var url = js_urls[i];\n",
       "      var s = document.createElement('script');\n",
       "      s.src = url;\n",
       "      s.async = false;\n",
       "      s.onreadystatechange = s.onload = function() {\n",
       "        root._bokeh_is_loading--;\n",
       "        if (root._bokeh_is_loading === 0) {\n",
       "          console.log(\"Bokeh: all BokehJS libraries loaded\");\n",
       "          run_callbacks()\n",
       "        }\n",
       "      };\n",
       "      s.onerror = function() {\n",
       "        console.warn(\"failed to load library \" + url);\n",
       "      };\n",
       "      console.log(\"Bokeh: injecting script tag for BokehJS library: \", url);\n",
       "      document.getElementsByTagName(\"head\")[0].appendChild(s);\n",
       "    }\n",
       "  };var element = document.getElementById(\"1001\");\n",
       "  if (element == null) {\n",
       "    console.log(\"Bokeh: ERROR: autoload.js configured with elementid '1001' but no matching script tag was found. \")\n",
       "    return false;\n",
       "  }\n",
       "\n",
       "  var js_urls = [\"https://cdn.pydata.org/bokeh/release/bokeh-1.0.1.min.js\", \"https://cdn.pydata.org/bokeh/release/bokeh-widgets-1.0.1.min.js\", \"https://cdn.pydata.org/bokeh/release/bokeh-tables-1.0.1.min.js\", \"https://cdn.pydata.org/bokeh/release/bokeh-gl-1.0.1.min.js\"];\n",
       "\n",
       "  var inline_js = [\n",
       "    function(Bokeh) {\n",
       "      Bokeh.set_log_level(\"info\");\n",
       "    },\n",
       "    \n",
       "    function(Bokeh) {\n",
       "      \n",
       "    },\n",
       "    function(Bokeh) {\n",
       "      console.log(\"Bokeh: injecting CSS: https://cdn.pydata.org/bokeh/release/bokeh-1.0.1.min.css\");\n",
       "      Bokeh.embed.inject_css(\"https://cdn.pydata.org/bokeh/release/bokeh-1.0.1.min.css\");\n",
       "      console.log(\"Bokeh: injecting CSS: https://cdn.pydata.org/bokeh/release/bokeh-widgets-1.0.1.min.css\");\n",
       "      Bokeh.embed.inject_css(\"https://cdn.pydata.org/bokeh/release/bokeh-widgets-1.0.1.min.css\");\n",
       "      console.log(\"Bokeh: injecting CSS: https://cdn.pydata.org/bokeh/release/bokeh-tables-1.0.1.min.css\");\n",
       "      Bokeh.embed.inject_css(\"https://cdn.pydata.org/bokeh/release/bokeh-tables-1.0.1.min.css\");\n",
       "    }\n",
       "  ];\n",
       "\n",
       "  function run_inline_js() {\n",
       "    \n",
       "    if ((root.Bokeh !== undefined) || (force === true)) {\n",
       "      for (var i = 0; i < inline_js.length; i++) {\n",
       "        inline_js[i].call(root, root.Bokeh);\n",
       "      }if (force === true) {\n",
       "        display_loaded();\n",
       "      }} else if (Date.now() < root._bokeh_timeout) {\n",
       "      setTimeout(run_inline_js, 100);\n",
       "    } else if (!root._bokeh_failed_load) {\n",
       "      console.log(\"Bokeh: BokehJS failed to load within specified timeout.\");\n",
       "      root._bokeh_failed_load = true;\n",
       "    } else if (force !== true) {\n",
       "      var cell = $(document.getElementById(\"1001\")).parents('.cell').data().cell;\n",
       "      cell.output_area.append_execute_result(NB_LOAD_WARNING)\n",
       "    }\n",
       "\n",
       "  }\n",
       "\n",
       "  if (root._bokeh_is_loading === 0) {\n",
       "    console.log(\"Bokeh: BokehJS loaded, going straight to plotting\");\n",
       "    run_inline_js();\n",
       "  } else {\n",
       "    load_libs(js_urls, function() {\n",
       "      console.log(\"Bokeh: BokehJS plotting callback run at\", now());\n",
       "      run_inline_js();\n",
       "    });\n",
       "  }\n",
       "}(window));"
      ],
      "application/vnd.bokehjs_load.v0+json": "\n(function(root) {\n  function now() {\n    return new Date();\n  }\n\n  var force = true;\n\n  if (typeof (root._bokeh_onload_callbacks) === \"undefined\" || force === true) {\n    root._bokeh_onload_callbacks = [];\n    root._bokeh_is_loading = undefined;\n  }\n\n  \n\n  \n  if (typeof (root._bokeh_timeout) === \"undefined\" || force === true) {\n    root._bokeh_timeout = Date.now() + 5000;\n    root._bokeh_failed_load = false;\n  }\n\n  var NB_LOAD_WARNING = {'data': {'text/html':\n     \"<div style='background-color: #fdd'>\\n\"+\n     \"<p>\\n\"+\n     \"BokehJS does not appear to have successfully loaded. If loading BokehJS from CDN, this \\n\"+\n     \"may be due to a slow or bad network connection. Possible fixes:\\n\"+\n     \"</p>\\n\"+\n     \"<ul>\\n\"+\n     \"<li>re-rerun `output_notebook()` to attempt to load from CDN again, or</li>\\n\"+\n     \"<li>use INLINE resources instead, as so:</li>\\n\"+\n     \"</ul>\\n\"+\n     \"<code>\\n\"+\n     \"from bokeh.resources import INLINE\\n\"+\n     \"output_notebook(resources=INLINE)\\n\"+\n     \"</code>\\n\"+\n     \"</div>\"}};\n\n  function display_loaded() {\n    var el = document.getElementById(\"1001\");\n    if (el != null) {\n      el.textContent = \"BokehJS is loading...\";\n    }\n    if (root.Bokeh !== undefined) {\n      if (el != null) {\n        el.textContent = \"BokehJS \" + root.Bokeh.version + \" successfully loaded.\";\n      }\n    } else if (Date.now() < root._bokeh_timeout) {\n      setTimeout(display_loaded, 100)\n    }\n  }\n\n\n  function run_callbacks() {\n    try {\n      root._bokeh_onload_callbacks.forEach(function(callback) { callback() });\n    }\n    finally {\n      delete root._bokeh_onload_callbacks\n    }\n    console.info(\"Bokeh: all callbacks have finished\");\n  }\n\n  function load_libs(js_urls, callback) {\n    root._bokeh_onload_callbacks.push(callback);\n    if (root._bokeh_is_loading > 0) {\n      console.log(\"Bokeh: BokehJS is being loaded, scheduling callback at\", now());\n      return null;\n    }\n    if (js_urls == null || js_urls.length === 0) {\n      run_callbacks();\n      return null;\n    }\n    console.log(\"Bokeh: BokehJS not loaded, scheduling load and callback at\", now());\n    root._bokeh_is_loading = js_urls.length;\n    for (var i = 0; i < js_urls.length; i++) {\n      var url = js_urls[i];\n      var s = document.createElement('script');\n      s.src = url;\n      s.async = false;\n      s.onreadystatechange = s.onload = function() {\n        root._bokeh_is_loading--;\n        if (root._bokeh_is_loading === 0) {\n          console.log(\"Bokeh: all BokehJS libraries loaded\");\n          run_callbacks()\n        }\n      };\n      s.onerror = function() {\n        console.warn(\"failed to load library \" + url);\n      };\n      console.log(\"Bokeh: injecting script tag for BokehJS library: \", url);\n      document.getElementsByTagName(\"head\")[0].appendChild(s);\n    }\n  };var element = document.getElementById(\"1001\");\n  if (element == null) {\n    console.log(\"Bokeh: ERROR: autoload.js configured with elementid '1001' but no matching script tag was found. \")\n    return false;\n  }\n\n  var js_urls = [\"https://cdn.pydata.org/bokeh/release/bokeh-1.0.1.min.js\", \"https://cdn.pydata.org/bokeh/release/bokeh-widgets-1.0.1.min.js\", \"https://cdn.pydata.org/bokeh/release/bokeh-tables-1.0.1.min.js\", \"https://cdn.pydata.org/bokeh/release/bokeh-gl-1.0.1.min.js\"];\n\n  var inline_js = [\n    function(Bokeh) {\n      Bokeh.set_log_level(\"info\");\n    },\n    \n    function(Bokeh) {\n      \n    },\n    function(Bokeh) {\n      console.log(\"Bokeh: injecting CSS: https://cdn.pydata.org/bokeh/release/bokeh-1.0.1.min.css\");\n      Bokeh.embed.inject_css(\"https://cdn.pydata.org/bokeh/release/bokeh-1.0.1.min.css\");\n      console.log(\"Bokeh: injecting CSS: https://cdn.pydata.org/bokeh/release/bokeh-widgets-1.0.1.min.css\");\n      Bokeh.embed.inject_css(\"https://cdn.pydata.org/bokeh/release/bokeh-widgets-1.0.1.min.css\");\n      console.log(\"Bokeh: injecting CSS: https://cdn.pydata.org/bokeh/release/bokeh-tables-1.0.1.min.css\");\n      Bokeh.embed.inject_css(\"https://cdn.pydata.org/bokeh/release/bokeh-tables-1.0.1.min.css\");\n    }\n  ];\n\n  function run_inline_js() {\n    \n    if ((root.Bokeh !== undefined) || (force === true)) {\n      for (var i = 0; i < inline_js.length; i++) {\n        inline_js[i].call(root, root.Bokeh);\n      }if (force === true) {\n        display_loaded();\n      }} else if (Date.now() < root._bokeh_timeout) {\n      setTimeout(run_inline_js, 100);\n    } else if (!root._bokeh_failed_load) {\n      console.log(\"Bokeh: BokehJS failed to load within specified timeout.\");\n      root._bokeh_failed_load = true;\n    } else if (force !== true) {\n      var cell = $(document.getElementById(\"1001\")).parents('.cell').data().cell;\n      cell.output_area.append_execute_result(NB_LOAD_WARNING)\n    }\n\n  }\n\n  if (root._bokeh_is_loading === 0) {\n    console.log(\"Bokeh: BokehJS loaded, going straight to plotting\");\n    run_inline_js();\n  } else {\n    load_libs(js_urls, function() {\n      console.log(\"Bokeh: BokehJS plotting callback run at\", now());\n      run_inline_js();\n    });\n  }\n}(window));"
     },
     "metadata": {},
     "output_type": "display_data"
    }
   ],
   "source": [
    "import pandas as pd\n",
    "from bokeh.plotting import figure, show\n",
    "from bokeh.io import output_notebook\n",
    "output_notebook()"
   ]
  },
  {
   "cell_type": "markdown",
   "metadata": {},
   "source": [
    "Loading CSV file with the city and global data"
   ]
  },
  {
   "cell_type": "code",
   "execution_count": 2,
   "metadata": {},
   "outputs": [],
   "source": [
    "import pandas as pd\n",
    "cities_data = pd.read_csv(\"cities_data.csv\")\n",
    "global_data = pd.read_csv(\"global_data.csv\")"
   ]
  },
  {
   "cell_type": "markdown",
   "metadata": {},
   "source": [
    "Creating a function to calculate the moving average"
   ]
  },
  {
   "cell_type": "code",
   "execution_count": 3,
   "metadata": {},
   "outputs": [],
   "source": [
    "def calculate_moving_averages(city_df, window_size):\n",
    "    moving_av = pd.DataFrame(city_df['avg_temp'].rolling(window=window_size).mean())\n",
    "    moving_av.columns = ['moving_averages']\n",
    "    return moving_av"
   ]
  },
  {
   "cell_type": "markdown",
   "metadata": {},
   "source": [
    "Calculate moving averages and saving in the Dataframes \"guarulhos\" and \"global_data\""
   ]
  },
  {
   "cell_type": "code",
   "execution_count": 4,
   "metadata": {},
   "outputs": [],
   "source": [
    "guarulhos = cities_data.loc[cities_data['city'] == 'Guarulhos']\n",
    "\n",
    "guarulhos = guarulhos.join(calculate_moving_averages(guarulhos, 50))\n",
    "global_data = global_data.join(calculate_moving_averages(global_data, 50))"
   ]
  },
  {
   "cell_type": "code",
   "execution_count": 5,
   "metadata": {},
   "outputs": [],
   "source": [
    "brisbane = cities_data.loc[cities_data['city'] == 'Brisbane']\n",
    "berlin = cities_data.loc[cities_data['city'] == 'Berlin']\n",
    "toronto = cities_data.loc[cities_data['city'] == 'Toronto']\n",
    "\n",
    "berlin = berlin.join(calculate_moving_averages(berlin, 50))\n",
    "brisbane = brisbane.join(calculate_moving_averages(brisbane, 50))\n",
    "toronto = toronto.join(calculate_moving_averages(toronto, 50))"
   ]
  },
  {
   "cell_type": "code",
   "execution_count": 6,
   "metadata": {},
   "outputs": [
    {
     "data": {
      "text/html": [
       "\n",
       "\n",
       "\n",
       "\n",
       "\n",
       "\n",
       "  <div class=\"bk-root\" id=\"e9d63510-6be8-4631-b821-e16f738a4dc3\"></div>\n"
      ]
     },
     "metadata": {},
     "output_type": "display_data"
    },
    {
     "data": {
      "application/javascript": [
       "(function(root) {\n",
       "  function embed_document(root) {\n",
       "    \n",
       "  var docs_json = {\"28d15781-48d5-4423-9e0c-331068e94d03\":{\"roots\":{\"references\":[{\"attributes\":{\"below\":[{\"id\":\"1013\",\"type\":\"LinearAxis\"}],\"left\":[{\"id\":\"1018\",\"type\":\"LinearAxis\"}],\"plot_height\":800,\"plot_width\":1200,\"renderers\":[{\"id\":\"1013\",\"type\":\"LinearAxis\"},{\"id\":\"1017\",\"type\":\"Grid\"},{\"id\":\"1018\",\"type\":\"LinearAxis\"},{\"id\":\"1022\",\"type\":\"Grid\"},{\"id\":\"1031\",\"type\":\"BoxAnnotation\"},{\"id\":\"1049\",\"type\":\"Legend\"},{\"id\":\"1041\",\"type\":\"GlyphRenderer\"},{\"id\":\"1054\",\"type\":\"GlyphRenderer\"}],\"title\":{\"id\":\"1002\",\"type\":\"Title\"},\"toolbar\":{\"id\":\"1029\",\"type\":\"Toolbar\"},\"x_range\":{\"id\":\"1005\",\"type\":\"DataRange1d\"},\"x_scale\":{\"id\":\"1009\",\"type\":\"LinearScale\"},\"y_range\":{\"id\":\"1007\",\"type\":\"DataRange1d\"},\"y_scale\":{\"id\":\"1011\",\"type\":\"LinearScale\"}},\"id\":\"1003\",\"subtype\":\"Figure\",\"type\":\"Plot\"},{\"attributes\":{\"line_alpha\":0.1,\"line_color\":\"#1f77b4\",\"line_width\":6,\"x\":{\"field\":\"x\"},\"y\":{\"field\":\"y\"}},\"id\":\"1053\",\"type\":\"Line\"},{\"attributes\":{\"active_drag\":\"auto\",\"active_inspect\":\"auto\",\"active_multi\":null,\"active_scroll\":\"auto\",\"active_tap\":\"auto\",\"tools\":[{\"id\":\"1023\",\"type\":\"PanTool\"},{\"id\":\"1024\",\"type\":\"WheelZoomTool\"},{\"id\":\"1025\",\"type\":\"BoxZoomTool\"},{\"id\":\"1026\",\"type\":\"SaveTool\"},{\"id\":\"1027\",\"type\":\"ResetTool\"},{\"id\":\"1028\",\"type\":\"HelpTool\"}]},\"id\":\"1029\",\"type\":\"Toolbar\"},{\"attributes\":{\"data_source\":{\"id\":\"1051\",\"type\":\"ColumnDataSource\"},\"glyph\":{\"id\":\"1052\",\"type\":\"Line\"},\"hover_glyph\":null,\"muted_glyph\":null,\"nonselection_glyph\":{\"id\":\"1053\",\"type\":\"Line\"},\"selection_glyph\":null,\"view\":{\"id\":\"1055\",\"type\":\"CDSView\"}},\"id\":\"1054\",\"type\":\"GlyphRenderer\"},{\"attributes\":{},\"id\":\"1023\",\"type\":\"PanTool\"},{\"attributes\":{\"source\":{\"id\":\"1051\",\"type\":\"ColumnDataSource\"}},\"id\":\"1055\",\"type\":\"CDSView\"},{\"attributes\":{},\"id\":\"1024\",\"type\":\"WheelZoomTool\"},{\"attributes\":{},\"id\":\"1062\",\"type\":\"UnionRenderers\"},{\"attributes\":{\"overlay\":{\"id\":\"1031\",\"type\":\"BoxAnnotation\"}},\"id\":\"1025\",\"type\":\"BoxZoomTool\"},{\"attributes\":{\"label\":{\"value\":\"Global\"},\"renderers\":[{\"id\":\"1054\",\"type\":\"GlyphRenderer\"}]},\"id\":\"1064\",\"type\":\"LegendItem\"},{\"attributes\":{\"line_alpha\":0.8,\"line_color\":\"navy\",\"line_width\":6,\"x\":{\"field\":\"x\"},\"y\":{\"field\":\"y\"}},\"id\":\"1039\",\"type\":\"Line\"},{\"attributes\":{},\"id\":\"1026\",\"type\":\"SaveTool\"},{\"attributes\":{\"plot\":null,\"text\":\"Global x Guarulhos Weather Trends\",\"text_font_size\":{\"value\":\"24pt\"}},\"id\":\"1002\",\"type\":\"Title\"},{\"attributes\":{},\"id\":\"1027\",\"type\":\"ResetTool\"},{\"attributes\":{},\"id\":\"1073\",\"type\":\"UnionRenderers\"},{\"attributes\":{\"callback\":null},\"id\":\"1005\",\"type\":\"DataRange1d\"},{\"attributes\":{},\"id\":\"1063\",\"type\":\"Selection\"},{\"attributes\":{},\"id\":\"1074\",\"type\":\"Selection\"},{\"attributes\":{\"callback\":null},\"id\":\"1007\",\"type\":\"DataRange1d\"},{\"attributes\":{},\"id\":\"1028\",\"type\":\"HelpTool\"},{\"attributes\":{\"source\":{\"id\":\"1038\",\"type\":\"ColumnDataSource\"}},\"id\":\"1042\",\"type\":\"CDSView\"},{\"attributes\":{},\"id\":\"1009\",\"type\":\"LinearScale\"},{\"attributes\":{},\"id\":\"1011\",\"type\":\"LinearScale\"},{\"attributes\":{\"bottom_units\":\"screen\",\"fill_alpha\":{\"value\":0.5},\"fill_color\":{\"value\":\"lightgrey\"},\"left_units\":\"screen\",\"level\":\"overlay\",\"line_alpha\":{\"value\":1.0},\"line_color\":{\"value\":\"black\"},\"line_dash\":[4,4],\"line_width\":{\"value\":2},\"plot\":null,\"render_mode\":\"css\",\"right_units\":\"screen\",\"top_units\":\"screen\"},\"id\":\"1031\",\"type\":\"BoxAnnotation\"},{\"attributes\":{\"axis_label\":\"Year\",\"axis_label_text_font_size\":{\"value\":\"18pt\"},\"formatter\":{\"id\":\"1044\",\"type\":\"BasicTickFormatter\"},\"major_label_text_font_size\":{\"value\":\"18pt\"},\"plot\":{\"id\":\"1003\",\"subtype\":\"Figure\",\"type\":\"Plot\"},\"ticker\":{\"id\":\"1014\",\"type\":\"BasicTicker\"}},\"id\":\"1013\",\"type\":\"LinearAxis\"},{\"attributes\":{\"line_alpha\":0.1,\"line_color\":\"#1f77b4\",\"line_width\":6,\"x\":{\"field\":\"x\"},\"y\":{\"field\":\"y\"}},\"id\":\"1040\",\"type\":\"Line\"},{\"attributes\":{\"data_source\":{\"id\":\"1038\",\"type\":\"ColumnDataSource\"},\"glyph\":{\"id\":\"1039\",\"type\":\"Line\"},\"hover_glyph\":null,\"muted_glyph\":null,\"nonselection_glyph\":{\"id\":\"1040\",\"type\":\"Line\"},\"selection_glyph\":null,\"view\":{\"id\":\"1042\",\"type\":\"CDSView\"}},\"id\":\"1041\",\"type\":\"GlyphRenderer\"},{\"attributes\":{},\"id\":\"1014\",\"type\":\"BasicTicker\"},{\"attributes\":{},\"id\":\"1044\",\"type\":\"BasicTickFormatter\"},{\"attributes\":{\"label\":{\"value\":\"Guarulhos\"},\"renderers\":[{\"id\":\"1041\",\"type\":\"GlyphRenderer\"}]},\"id\":\"1050\",\"type\":\"LegendItem\"},{\"attributes\":{},\"id\":\"1046\",\"type\":\"BasicTickFormatter\"},{\"attributes\":{\"plot\":{\"id\":\"1003\",\"subtype\":\"Figure\",\"type\":\"Plot\"},\"ticker\":{\"id\":\"1014\",\"type\":\"BasicTicker\"}},\"id\":\"1017\",\"type\":\"Grid\"},{\"attributes\":{\"glyph_height\":40,\"glyph_width\":50,\"items\":[{\"id\":\"1050\",\"type\":\"LegendItem\"},{\"id\":\"1064\",\"type\":\"LegendItem\"}],\"label_text_font_size\":{\"value\":\"24pt\"},\"location\":[30,550],\"plot\":{\"id\":\"1003\",\"subtype\":\"Figure\",\"type\":\"Plot\"}},\"id\":\"1049\",\"type\":\"Legend\"},{\"attributes\":{\"axis_label\":\"Average Temperature\",\"axis_label_text_font_size\":{\"value\":\"18pt\"},\"formatter\":{\"id\":\"1046\",\"type\":\"BasicTickFormatter\"},\"major_label_text_font_size\":{\"value\":\"18pt\"},\"plot\":{\"id\":\"1003\",\"subtype\":\"Figure\",\"type\":\"Plot\"},\"ticker\":{\"id\":\"1019\",\"type\":\"BasicTicker\"}},\"id\":\"1018\",\"type\":\"LinearAxis\"},{\"attributes\":{},\"id\":\"1019\",\"type\":\"BasicTicker\"},{\"attributes\":{\"dimension\":1,\"plot\":{\"id\":\"1003\",\"subtype\":\"Figure\",\"type\":\"Plot\"},\"ticker\":{\"id\":\"1019\",\"type\":\"BasicTicker\"}},\"id\":\"1022\",\"type\":\"Grid\"},{\"attributes\":{\"callback\":null,\"data\":{\"x\":[1750,1751,1752,1753,1754,1755,1756,1757,1758,1759,1760,1761,1762,1763,1764,1765,1766,1767,1768,1769,1770,1771,1772,1773,1774,1775,1776,1777,1778,1779,1780,1781,1782,1783,1784,1785,1786,1787,1788,1789,1790,1791,1792,1793,1794,1795,1796,1797,1798,1799,1800,1801,1802,1803,1804,1805,1806,1807,1808,1809,1810,1811,1812,1813,1814,1815,1816,1817,1818,1819,1820,1821,1822,1823,1824,1825,1826,1827,1828,1829,1830,1831,1832,1833,1834,1835,1836,1837,1838,1839,1840,1841,1842,1843,1844,1845,1846,1847,1848,1849,1850,1851,1852,1853,1854,1855,1856,1857,1858,1859,1860,1861,1862,1863,1864,1865,1866,1867,1868,1869,1870,1871,1872,1873,1874,1875,1876,1877,1878,1879,1880,1881,1882,1883,1884,1885,1886,1887,1888,1889,1890,1891,1892,1893,1894,1895,1896,1897,1898,1899,1900,1901,1902,1903,1904,1905,1906,1907,1908,1909,1910,1911,1912,1913,1914,1915,1916,1917,1918,1919,1920,1921,1922,1923,1924,1925,1926,1927,1928,1929,1930,1931,1932,1933,1934,1935,1936,1937,1938,1939,1940,1941,1942,1943,1944,1945,1946,1947,1948,1949,1950,1951,1952,1953,1954,1955,1956,1957,1958,1959,1960,1961,1962,1963,1964,1965,1966,1967,1968,1969,1970,1971,1972,1973,1974,1975,1976,1977,1978,1979,1980,1981,1982,1983,1984,1985,1986,1987,1988,1989,1990,1991,1992,1993,1994,1995,1996,1997,1998,1999,2000,2001,2002,2003,2004,2005,2006,2007,2008,2009,2010,2011,2012,2013,2014,2015],\"y\":{\"__ndarray__\":\"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\",\"dtype\":\"float64\",\"shape\":[266]}},\"selected\":{\"id\":\"1074\",\"type\":\"Selection\"},\"selection_policy\":{\"id\":\"1073\",\"type\":\"UnionRenderers\"}},\"id\":\"1051\",\"type\":\"ColumnDataSource\"},{\"attributes\":{\"line_alpha\":0.8,\"line_color\":\"firebrick\",\"line_width\":6,\"x\":{\"field\":\"x\"},\"y\":{\"field\":\"y\"}},\"id\":\"1052\",\"type\":\"Line\"},{\"attributes\":{\"callback\":null,\"data\":{\"x\":[1832,1833,1834,1835,1836,1837,1838,1839,1840,1841,1842,1843,1844,1845,1846,1847,1848,1849,1850,1851,1852,1853,1854,1855,1856,1857,1858,1859,1860,1861,1862,1863,1864,1865,1866,1867,1868,1869,1870,1871,1872,1873,1874,1875,1876,1877,1878,1879,1880,1881,1882,1883,1884,1885,1886,1887,1888,1889,1890,1891,1892,1893,1894,1895,1896,1897,1898,1899,1900,1901,1902,1903,1904,1905,1906,1907,1908,1909,1910,1911,1912,1913,1914,1915,1916,1917,1918,1919,1920,1921,1922,1923,1924,1925,1926,1927,1928,1929,1930,1931,1932,1933,1934,1935,1936,1937,1938,1939,1940,1941,1942,1943,1944,1945,1946,1947,1948,1949,1950,1951,1952,1953,1954,1955,1956,1957,1958,1959,1960,1961,1962,1963,1964,1965,1966,1967,1968,1969,1970,1971,1972,1973,1974,1975,1976,1977,1978,1979,1980,1981,1982,1983,1984,1985,1986,1987,1988,1989,1990,1991,1992,1993,1994,1995,1996,1997,1998,1999,2000,2001,2002,2003,2004,2005,2006,2007,2008,2009,2010,2011,2012,2013],\"y\":{\"__ndarray__\":\"AAAAAAAA+H8AAAAAAAD4fwAAAAAAAPh/AAAAAAAA+H8AAAAAAAD4fwAAAAAAAPh/AAAAAAAA+H8AAAAAAAD4fwAAAAAAAPh/AAAAAAAA+H8AAAAAAAD4fwAAAAAAAPh/AAAAAAAA+H8AAAAAAAD4fwAAAAAAAPh/AAAAAAAA+H8AAAAAAAD4fwAAAAAAAPh/AAAAAAAA+H8AAAAAAAD4fwAAAAAAAPh/AAAAAAAA+H8AAAAAAAD4fwAAAAAAAPh/AAAAAAAA+H8AAAAAAAD4fwAAAAAAAPh/AAAAAAAA+H8AAAAAAAD4fwAAAAAAAPh/AAAAAAAA+H8AAAAAAAD4fwAAAAAAAPh/AAAAAAAA+H8AAAAAAAD4fwAAAAAAAPh/AAAAAAAA+H8AAAAAAAD4fwAAAAAAAPh/AAAAAAAA+H8AAAAAAAD4fwAAAAAAAPh/AAAAAAAA+H8AAAAAAAD4fwAAAAAAAPh/AAAAAAAA+H8AAAAAAAD4fwAAAAAAAPh/AAAAAAAA+H8AAAAAAAD4fwAAAAAAAPh/AAAAAAAA+H8AAAAAAAD4fwAAAAAAAPh/AAAAAAAA+H8AAAAAAAD4fwAAAAAAAPh/AAAAAAAA+H8AAAAAAAD4fwAAAAAAAPh/AAAAAAAA+H8AAAAAAAD4fwAAAAAAAPh/AAAAAAAA+H8AAAAAAAD4fwAAAAAAAPh/AAAAAAAA+H8AAAAAAAD4f+PyH9JvXzNAyaFFtvNdM0DGBz2bVV8zQFY5tMh2XjNAlf+QfvtaM0CW3ZOHhVozQHMCmggbXjNAyl1LyAddM0DfehSuR2EzQP1D+u3rYDNAyaFFtvNdM0BzApoIG14zQKo+V1uxXzNAo3A9CtdjM0BBz2bV52ozQDaJQWDlcDNAFUhQ/BhzM0DGdr6fGm8zQLM3+MJkajNAez81XrppM0BjqmBUUmczQNfO91PjZTNADum3rwNnM0Cf+DHmrmUzQPO52or9ZTNAJaCJsOFpM0BzcRsN4G0zQHULJCh+bDNAyszMzMxsM0DfC5OpgnEzQNyTh4VaczNAhRbZzvdzM0AhufyH9HszQFqPwvUofDNAbfCFyVSBM0CLuWsJ+YAzQIFRSZ2AhjNASJ2AJsKGM0AuTKYKRoUzQKG0N/jChDNAJOSDns2KM0CRXP5D+o0zQOHHmLuWkDNALCEf9GyWM0B9jLlrCZkzQEP67evAmTNAzRlR2hucM0BdKcsQx5ozQOvAOSNKmzNAnBGlvcGXM0Bhf9k9eZgzQNJNYhBYmTNACiQofoyZM0DpBDQRNpwzQG00gLdAojNAGHPXEvKhM0BT46WbxKAzQIdjXdxGozNAKFyPwvWoM0D9snvysLAzQGoJ+aBnszNAeTarPle7M0C0pnnHKbozQHTgnBGlvTNARnL5D+m3M0Cc76fGS7czQOx8PzVeujNA+e3rwDnDM0CIQWDl0MIzQPcx5q4lxDNAuicPC7XGM0B9+zpwzsgzQAjXo3A9yjNAA8WPMXfNM0D9kH77OtAzQKZXyjLE0TNA/pB++zrQM0APWDm0yNYzQErqBDQR1jNALf8h/fbVM0C5uI0G8NYzQEL67evA2TNAfWq8dJPYM0ABeAskKN4zQFAnoImw4TNAMcSxLm7jM0DXzvdT4+UzQHphMlUw6jNAB/mgZ7PqM0AKk6mCUekzQLTRAN4C6TNA7oXJVMHoM0Bc3EYDeOszQBtaZDvf7zNAaSv2l93zM0Am7Q2+MPkzQCRTBaOS+jNAiB9j7loCNEDwQc9m1Qc0QHilLEMcCzRAkToBTYQNNECeibDh6RU0QMtdS8gHHTRANhrAWyAhNEDhNhrAWyA0QCyyne+nJjRAkToBTYQtNECGFtnO9zM0QGoJ+aBnMzRAhFrTvOM0NEBCHOviNjo0QO8WSFD8ODRAFrfRAN5CNEDEjzF3LUE0QA==\",\"dtype\":\"float64\",\"shape\":[182]}},\"selected\":{\"id\":\"1063\",\"type\":\"Selection\"},\"selection_policy\":{\"id\":\"1062\",\"type\":\"UnionRenderers\"}},\"id\":\"1038\",\"type\":\"ColumnDataSource\"}],\"root_ids\":[\"1003\"]},\"title\":\"Bokeh Application\",\"version\":\"1.0.1\"}};\n",
       "  var render_items = [{\"docid\":\"28d15781-48d5-4423-9e0c-331068e94d03\",\"roots\":{\"1003\":\"e9d63510-6be8-4631-b821-e16f738a4dc3\"}}];\n",
       "  root.Bokeh.embed.embed_items_notebook(docs_json, render_items);\n",
       "\n",
       "  }\n",
       "  if (root.Bokeh !== undefined) {\n",
       "    embed_document(root);\n",
       "  } else {\n",
       "    var attempts = 0;\n",
       "    var timer = setInterval(function(root) {\n",
       "      if (root.Bokeh !== undefined) {\n",
       "        embed_document(root);\n",
       "        clearInterval(timer);\n",
       "      }\n",
       "      attempts++;\n",
       "      if (attempts > 100) {\n",
       "        console.log(\"Bokeh: ERROR: Unable to run BokehJS code because BokehJS library is missing\");\n",
       "        clearInterval(timer);\n",
       "      }\n",
       "    }, 10, root)\n",
       "  }\n",
       "})(window);"
      ],
      "application/vnd.bokehjs_exec.v0+json": ""
     },
     "metadata": {
      "application/vnd.bokehjs_exec.v0+json": {
       "id": "1003"
      }
     },
     "output_type": "display_data"
    }
   ],
   "source": [
    "# Create line chart\n",
    "\n",
    "p = figure(plot_width=1200, plot_height=800, title=\"Global x Guarulhos Weather Trends\")\n",
    "\n",
    "p.title.text_font_size = '24pt'\n",
    "p.line(guarulhos['year'], guarulhos['moving_averages'], color=\"navy\", alpha=0.8, legend=\"Guarulhos\", line_width=6)\n",
    "p.line(global_data['year'], global_data['moving_averages'], color=\"firebrick\", alpha=0.8, legend=\"Global\", line_width=6)\n",
    "p.xaxis.axis_label = \"Year\"\n",
    "p.yaxis.axis_label = \"Average Temperature\"\n",
    "p.xaxis.axis_label_text_font_size = '18pt'\n",
    "p.yaxis.axis_label_text_font_size = '18pt'\n",
    "p.xaxis.major_label_text_font_size = '18pt'\n",
    "p.yaxis.major_label_text_font_size = '18pt'\n",
    "p.legend.location = (30,550)\n",
    "p.legend.label_text_font_size = '24pt'\n",
    "p.legend.glyph_width = 50\n",
    "p.legend.glyph_height = 40\n",
    "\n",
    "show(p)"
   ]
  },
  {
   "cell_type": "code",
   "execution_count": 10,
   "metadata": {},
   "outputs": [
    {
     "data": {
      "text/html": [
       "\n",
       "\n",
       "\n",
       "\n",
       "\n",
       "\n",
       "  <div class=\"bk-root\" id=\"1bc4b9a7-1411-4217-907e-eebe650f2de2\"></div>\n"
      ]
     },
     "metadata": {},
     "output_type": "display_data"
    },
    {
     "data": {
      "application/javascript": [
       "(function(root) {\n",
       "  function embed_document(root) {\n",
       "    \n",
       "  var docs_json = {\"938000a7-b785-4862-8cbe-75e53689b1ab\":{\"roots\":{\"references\":[{\"attributes\":{\"below\":[{\"id\":\"1911\",\"type\":\"LinearAxis\"}],\"left\":[{\"id\":\"1916\",\"type\":\"LinearAxis\"}],\"plot_height\":800,\"plot_width\":1000,\"renderers\":[{\"id\":\"1911\",\"type\":\"LinearAxis\"},{\"id\":\"1915\",\"type\":\"Grid\"},{\"id\":\"1916\",\"type\":\"LinearAxis\"},{\"id\":\"1920\",\"type\":\"Grid\"},{\"id\":\"1929\",\"type\":\"BoxAnnotation\"},{\"id\":\"1947\",\"type\":\"Legend\"},{\"id\":\"1939\",\"type\":\"GlyphRenderer\"},{\"id\":\"1952\",\"type\":\"GlyphRenderer\"},{\"id\":\"1966\",\"type\":\"GlyphRenderer\"},{\"id\":\"1982\",\"type\":\"GlyphRenderer\"},{\"id\":\"2000\",\"type\":\"GlyphRenderer\"}],\"title\":{\"id\":\"1900\",\"type\":\"Title\"},\"toolbar\":{\"id\":\"1927\",\"type\":\"Toolbar\"},\"x_range\":{\"id\":\"1903\",\"type\":\"DataRange1d\"},\"x_scale\":{\"id\":\"1907\",\"type\":\"LinearScale\"},\"y_range\":{\"id\":\"1905\",\"type\":\"DataRange1d\"},\"y_scale\":{\"id\":\"1909\",\"type\":\"LinearScale\"}},\"id\":\"1901\",\"subtype\":\"Figure\",\"type\":\"Plot\"},{\"attributes\":{\"callback\":null,\"data\":{\"x\":[1841,1842,1843,1844,1845,1846,1847,1848,1849,1850,1851,1852,1853,1854,1855,1856,1857,1858,1859,1860,1861,1862,1863,1864,1865,1866,1867,1868,1869,1870,1871,1872,1873,1874,1875,1876,1877,1878,1879,1880,1881,1882,1883,1884,1885,1886,1887,1888,1889,1890,1891,1892,1893,1894,1895,1896,1897,1898,1899,1900,1901,1902,1903,1904,1905,1906,1907,1908,1909,1910,1911,1912,1913,1914,1915,1916,1917,1918,1919,1920,1921,1922,1923,1924,1925,1926,1927,1928,1929,1930,1931,1932,1933,1934,1935,1936,1937,1938,1939,1940,1941,1942,1943,1944,1945,1946,1947,1948,1949,1950,1951,1952,1953,1954,1955,1956,1957,1958,1959,1960,1961,1962,1963,1964,1965,1966,1967,1968,1969,1970,1971,1972,1973,1974,1975,1976,1977,1978,1979,1980,1981,1982,1983,1984,1985,1986,1987,1988,1989,1990,1991,1992,1993,1994,1995,1996,1997,1998,1999,2000,2001,2002,2003,2004,2005,2006,2007,2008,2009,2010,2011,2012,2013],\"y\":{\"__ndarray__\":\"AAAAAAAA+H8AAAAAAAD4fwAAAAAAAPh/AAAAAAAA+H8AAAAAAAD4fwAAAAAAAPh/AAAAAAAA+H8AAAAAAAD4fwAAAAAAAPh/AAAAAAAA+H8AAAAAAAD4fwAAAAAAAPh/AAAAAAAA+H8AAAAAAAD4fwAAAAAAAPh/AAAAAAAA+H8AAAAAAAD4fwAAAAAAAPh/AAAAAAAA+H8AAAAAAAD4fwAAAAAAAPh/AAAAAAAA+H8AAAAAAAD4fwAAAAAAAPh/AAAAAAAA+H8AAAAAAAD4fwAAAAAAAPh/AAAAAAAA+H8AAAAAAAD4fwAAAAAAAPh/AAAAAAAA+H8AAAAAAAD4fwAAAAAAAPh/AAAAAAAA+H8AAAAAAAD4fwAAAAAAAPh/AAAAAAAA+H8AAAAAAAD4fwAAAAAAAPh/AAAAAAAA+H8AAAAAAAD4fwAAAAAAAPh/AAAAAAAA+H8AAAAAAAD4fwAAAAAAAPh/AAAAAAAA+H8AAAAAAAD4fwAAAAAAAPh/AAAAAAAA+H8qhxbZzhczQPHSTWIQGDNAfNCzWfUZM0B8rrZifxkzQLSmeccpGjNAe/KwUGsaM0DysFBrmhczQLPqc7UVGzNAWDm0yHYeM0AcDeAtkCAzQMP1KFyPIjNA3SQGgZUjM0C5jQbwFigzQNFE2PD0KjNA7S+7Jw8rM0D+9nXgnDEzQG/F/rJ7MjNAT4QNT680M0AYak3zjjMzQDHdJAaBNTNAZl3cRgM4M0C9uI0G8DYzQCztDb4wOTNA8J48LNQ6M0B0zojS3kAzQDJuowG8RTNA3PD0SllGM0AAiPTb10EzQK2CUUmdQDNAxDkjSntDM0BSr5RliEMzQE1ZhjjWRTNAfz81XrpJM0BdZDvfT00zQOhhodY0TzNA6vup8dJNM0BYMCqpE1AzQEFXW7G/TDNAYbpJDAJLM0CWGARWDk0zQHT5D+m3TzNAVNobfGFSM0DEqKROQFMzQL3aiv1lVzNA39eBc0ZUM0DD7J48LFQzQE+mCkYlVTNASpT2Bl9YM0CZQ4ts51szQIDQs1n1WTNAzqFFtvNdM0DJbTSAt2AzQDbEsS5uYzNANuauJeRjM0DbNO84RWczQEbPZtXnajNAllz+Q/ptM0AmbHh6pWwzQO5ztRX7azNACYGVQ4tsM0Dq+6nx0m0zQCZseHqlbDNA0arP1VZsM0AIxY8xd20zQJEG8BZIcDNANHctIR90M0D7wmSqYHQzQC5lGeJYdzNAzaFFtvN9M0B0io7k8n8zQFo5tMh2fjNAzX9Iv319M0BebcX+snszQNHVVuwvezNADQIrhxZ5M0CEwMqhRXYzQDKZKhiVdDNAn++nxkt3M0CbmZmZmXkzQH+MuWsJeTNAmruWkA96M0BHtvP91HgzQLzaiv1ldzNAXY/C9Sh8M0C0DHGsi3szQAO8BRIUfzNAd+CcEaV9M0Dhvg6cM4IzQFMnoImwgTNA3Ir9ZfeEM0AooImw4YkzQAr5oGezijNAX7pJDAKLM0B2cRsN4I0zQHE9CtejkDNANBE2PL2SM0CGONbFbZQzQNbFbTSAlzNAQ/rt68CZM0DO91PjpZszQK9yaJHtnDNAb/CFyVShM0CMl24Sg6AzQL3BFyZTpTNAZkRpb/ClM0BGA3gLJKgzQEGtad5xqjNAyTLEsS6uM0CEWtO847QzQIEExY8xtzNA1AloImy4M0AfY+5aQr4zQBlR2ht8wTNAwTkjSnvDM0Ar9pfdk8czQAaBlUOLzDNAqDXNO07RM0BrCfmgZ9MzQIps5/up0TNA8dJNYhDYM0AehetRuN4zQPrt68A54zNA8x/Sb1/nM0Cyne+nxuszQA==\",\"dtype\":\"float64\",\"shape\":[173]}},\"selected\":{\"id\":\"1995\",\"type\":\"Selection\"},\"selection_policy\":{\"id\":\"1994\",\"type\":\"UnionRenderers\"}},\"id\":\"1963\",\"type\":\"ColumnDataSource\"},{\"attributes\":{},\"id\":\"1921\",\"type\":\"PanTool\"},{\"attributes\":{\"line_alpha\":0.1,\"line_color\":\"#1f77b4\",\"line_width\":5,\"x\":{\"field\":\"x\"},\"y\":{\"field\":\"y\"}},\"id\":\"1999\",\"type\":\"Line\"},{\"attributes\":{\"line_alpha\":0.8,\"line_color\":\"tomato\",\"line_width\":5,\"x\":{\"field\":\"x\"},\"y\":{\"field\":\"y\"}},\"id\":\"1950\",\"type\":\"Line\"},{\"attributes\":{},\"id\":\"1995\",\"type\":\"Selection\"},{\"attributes\":{\"overlay\":{\"id\":\"1929\",\"type\":\"BoxAnnotation\"}},\"id\":\"1923\",\"type\":\"BoxZoomTool\"},{\"attributes\":{\"callback\":null,\"data\":{\"x\":[1750,1751,1752,1753,1754,1755,1756,1757,1758,1759,1760,1761,1762,1763,1764,1765,1766,1767,1768,1769,1770,1771,1772,1773,1774,1775,1776,1777,1778,1779,1780,1781,1782,1783,1784,1785,1786,1787,1788,1789,1790,1791,1792,1793,1794,1795,1796,1797,1798,1799,1800,1801,1802,1803,1804,1805,1806,1807,1808,1809,1810,1811,1812,1813,1814,1815,1816,1817,1818,1819,1820,1821,1822,1823,1824,1825,1826,1827,1828,1829,1830,1831,1832,1833,1834,1835,1836,1837,1838,1839,1840,1841,1842,1843,1844,1845,1846,1847,1848,1849,1850,1851,1852,1853,1854,1855,1856,1857,1858,1859,1860,1861,1862,1863,1864,1865,1866,1867,1868,1869,1870,1871,1872,1873,1874,1875,1876,1877,1878,1879,1880,1881,1882,1883,1884,1885,1886,1887,1888,1889,1890,1891,1892,1893,1894,1895,1896,1897,1898,1899,1900,1901,1902,1903,1904,1905,1906,1907,1908,1909,1910,1911,1912,1913,1914,1915,1916,1917,1918,1919,1920,1921,1922,1923,1924,1925,1926,1927,1928,1929,1930,1931,1932,1933,1934,1935,1936,1937,1938,1939,1940,1941,1942,1943,1944,1945,1946,1947,1948,1949,1950,1951,1952,1953,1954,1955,1956,1957,1958,1959,1960,1961,1962,1963,1964,1965,1966,1967,1968,1969,1970,1971,1972,1973,1974,1975,1976,1977,1978,1979,1980,1981,1982,1983,1984,1985,1986,1987,1988,1989,1990,1991,1992,1993,1994,1995,1996,1997,1998,1999,2000,2001,2002,2003,2004,2005,2006,2007,2008,2009,2010,2011,2012,2013,2014,2015],\"y\":{\"__ndarray__\":\"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\",\"dtype\":\"float64\",\"shape\":[266]}},\"selected\":{\"id\":\"2090\",\"type\":\"Selection\"},\"selection_policy\":{\"id\":\"2089\",\"type\":\"UnionRenderers\"}},\"id\":\"1997\",\"type\":\"ColumnDataSource\"},{\"attributes\":{\"data_source\":{\"id\":\"1997\",\"type\":\"ColumnDataSource\"},\"glyph\":{\"id\":\"1998\",\"type\":\"Line\"},\"hover_glyph\":null,\"muted_glyph\":null,\"nonselection_glyph\":{\"id\":\"1999\",\"type\":\"Line\"},\"selection_glyph\":null,\"view\":{\"id\":\"2001\",\"type\":\"CDSView\"}},\"id\":\"2000\",\"type\":\"GlyphRenderer\"},{\"attributes\":{},\"id\":\"1922\",\"type\":\"WheelZoomTool\"},{\"attributes\":{\"axis_label\":\"Average Temperature\",\"axis_label_text_font_size\":{\"value\":\"18pt\"},\"formatter\":{\"id\":\"1944\",\"type\":\"BasicTickFormatter\"},\"major_label_text_font_size\":{\"value\":\"18pt\"},\"plot\":{\"id\":\"1901\",\"subtype\":\"Figure\",\"type\":\"Plot\"},\"ticker\":{\"id\":\"1917\",\"type\":\"BasicTicker\"}},\"id\":\"1916\",\"type\":\"LinearAxis\"},{\"attributes\":{\"source\":{\"id\":\"1997\",\"type\":\"ColumnDataSource\"}},\"id\":\"2001\",\"type\":\"CDSView\"},{\"attributes\":{\"axis_label\":\"Year\",\"axis_label_text_font_size\":{\"value\":\"18pt\"},\"formatter\":{\"id\":\"1942\",\"type\":\"BasicTickFormatter\"},\"major_label_text_font_size\":{\"value\":\"18pt\"},\"plot\":{\"id\":\"1901\",\"subtype\":\"Figure\",\"type\":\"Plot\"},\"ticker\":{\"id\":\"1912\",\"type\":\"BasicTicker\"}},\"id\":\"1911\",\"type\":\"LinearAxis\"},{\"attributes\":{\"dimension\":1,\"plot\":{\"id\":\"1901\",\"subtype\":\"Figure\",\"type\":\"Plot\"},\"ticker\":{\"id\":\"1917\",\"type\":\"BasicTicker\"}},\"id\":\"1920\",\"type\":\"Grid\"},{\"attributes\":{},\"id\":\"1912\",\"type\":\"BasicTicker\"},{\"attributes\":{\"label\":{\"value\":\"Toronto\"},\"renderers\":[{\"id\":\"1982\",\"type\":\"GlyphRenderer\"}]},\"id\":\"1996\",\"type\":\"LegendItem\"},{\"attributes\":{},\"id\":\"2015\",\"type\":\"Selection\"},{\"attributes\":{\"source\":{\"id\":\"1949\",\"type\":\"ColumnDataSource\"}},\"id\":\"1953\",\"type\":\"CDSView\"},{\"attributes\":{\"line_alpha\":0.8,\"line_color\":\"firebrick\",\"line_width\":5,\"x\":{\"field\":\"x\"},\"y\":{\"field\":\"y\"}},\"id\":\"1998\",\"type\":\"Line\"},{\"attributes\":{\"active_drag\":\"auto\",\"active_inspect\":\"auto\",\"active_multi\":null,\"active_scroll\":\"auto\",\"active_tap\":\"auto\",\"tools\":[{\"id\":\"1921\",\"type\":\"PanTool\"},{\"id\":\"1922\",\"type\":\"WheelZoomTool\"},{\"id\":\"1923\",\"type\":\"BoxZoomTool\"},{\"id\":\"1924\",\"type\":\"SaveTool\"},{\"id\":\"1925\",\"type\":\"ResetTool\"},{\"id\":\"1926\",\"type\":\"HelpTool\"}]},\"id\":\"1927\",\"type\":\"Toolbar\"},{\"attributes\":{\"source\":{\"id\":\"1963\",\"type\":\"ColumnDataSource\"}},\"id\":\"1967\",\"type\":\"CDSView\"},{\"attributes\":{\"label\":{\"value\":\"Global\"},\"renderers\":[{\"id\":\"2000\",\"type\":\"GlyphRenderer\"}]},\"id\":\"2016\",\"type\":\"LegendItem\"},{\"attributes\":{\"line_alpha\":0.1,\"line_color\":\"#1f77b4\",\"line_width\":5,\"x\":{\"field\":\"x\"},\"y\":{\"field\":\"y\"}},\"id\":\"1938\",\"type\":\"Line\"},{\"attributes\":{},\"id\":\"1926\",\"type\":\"HelpTool\"},{\"attributes\":{\"line_alpha\":0.8,\"line_color\":\"darkmagenta\",\"line_width\":5,\"x\":{\"field\":\"x\"},\"y\":{\"field\":\"y\"}},\"id\":\"1980\",\"type\":\"Line\"},{\"attributes\":{},\"id\":\"2089\",\"type\":\"UnionRenderers\"},{\"attributes\":{},\"id\":\"1994\",\"type\":\"UnionRenderers\"},{\"attributes\":{\"line_alpha\":0.8,\"line_color\":\"seagreen\",\"line_width\":5,\"x\":{\"field\":\"x\"},\"y\":{\"field\":\"y\"}},\"id\":\"1964\",\"type\":\"Line\"},{\"attributes\":{},\"id\":\"1942\",\"type\":\"BasicTickFormatter\"},{\"attributes\":{},\"id\":\"1924\",\"type\":\"SaveTool\"},{\"attributes\":{},\"id\":\"2090\",\"type\":\"Selection\"},{\"attributes\":{\"source\":{\"id\":\"1936\",\"type\":\"ColumnDataSource\"}},\"id\":\"1940\",\"type\":\"CDSView\"},{\"attributes\":{},\"id\":\"1977\",\"type\":\"Selection\"},{\"attributes\":{\"line_alpha\":0.8,\"line_color\":\"navy\",\"line_width\":5,\"x\":{\"field\":\"x\"},\"y\":{\"field\":\"y\"}},\"id\":\"1937\",\"type\":\"Line\"},{\"attributes\":{\"data_source\":{\"id\":\"1979\",\"type\":\"ColumnDataSource\"},\"glyph\":{\"id\":\"1980\",\"type\":\"Line\"},\"hover_glyph\":null,\"muted_glyph\":null,\"nonselection_glyph\":{\"id\":\"1981\",\"type\":\"Line\"},\"selection_glyph\":null,\"view\":{\"id\":\"1983\",\"type\":\"CDSView\"}},\"id\":\"1982\",\"type\":\"GlyphRenderer\"},{\"attributes\":{\"data_source\":{\"id\":\"1936\",\"type\":\"ColumnDataSource\"},\"glyph\":{\"id\":\"1937\",\"type\":\"Line\"},\"hover_glyph\":null,\"muted_glyph\":null,\"nonselection_glyph\":{\"id\":\"1938\",\"type\":\"Line\"},\"selection_glyph\":null,\"view\":{\"id\":\"1940\",\"type\":\"CDSView\"}},\"id\":\"1939\",\"type\":\"GlyphRenderer\"},{\"attributes\":{\"label\":{\"value\":\"Guarulhos\"},\"renderers\":[{\"id\":\"1939\",\"type\":\"GlyphRenderer\"}]},\"id\":\"1948\",\"type\":\"LegendItem\"},{\"attributes\":{},\"id\":\"1925\",\"type\":\"ResetTool\"},{\"attributes\":{\"line_alpha\":0.1,\"line_color\":\"#1f77b4\",\"line_width\":5,\"x\":{\"field\":\"x\"},\"y\":{\"field\":\"y\"}},\"id\":\"1981\",\"type\":\"Line\"},{\"attributes\":{\"callback\":null,\"data\":{\"x\":[1743,1744,1745,1746,1747,1748,1749,1750,1751,1752,1753,1754,1755,1756,1757,1758,1759,1760,1761,1762,1763,1764,1765,1766,1767,1768,1769,1770,1771,1772,1773,1774,1775,1776,1777,1778,1779,1780,1781,1782,1783,1784,1785,1786,1787,1788,1789,1790,1791,1792,1793,1794,1795,1796,1797,1798,1799,1800,1801,1802,1803,1804,1805,1806,1807,1808,1809,1810,1811,1812,1813,1814,1815,1816,1817,1818,1819,1820,1821,1822,1823,1824,1825,1826,1827,1828,1829,1830,1831,1832,1833,1834,1835,1836,1837,1838,1839,1840,1841,1842,1843,1844,1845,1846,1847,1848,1849,1850,1851,1852,1853,1854,1855,1856,1857,1858,1859,1860,1861,1862,1863,1864,1865,1866,1867,1868,1869,1870,1871,1872,1873,1874,1875,1876,1877,1878,1879,1880,1881,1882,1883,1884,1885,1886,1887,1888,1889,1890,1891,1892,1893,1894,1895,1896,1897,1898,1899,1900,1901,1902,1903,1904,1905,1906,1907,1908,1909,1910,1911,1912,1913,1914,1915,1916,1917,1918,1919,1920,1921,1922,1923,1924,1925,1926,1927,1928,1929,1930,1931,1932,1933,1934,1935,1936,1937,1938,1939,1940,1941,1942,1943,1944,1945,1946,1947,1948,1949,1950,1951,1952,1953,1954,1955,1956,1957,1958,1959,1960,1961,1962,1963,1964,1965,1966,1967,1968,1969,1970,1971,1972,1973,1974,1975,1976,1977,1978,1979,1980,1981,1982,1983,1984,1985,1986,1987,1988,1989,1990,1991,1992,1993,1994,1995,1996,1997,1998,1999,2000,2001,2002,2003,2004,2005,2006,2007,2008,2009,2010,2011,2012,2013],\"y\":{\"__ndarray__\":\"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\",\"dtype\":\"float64\",\"shape\":[271]}},\"selected\":{\"id\":\"2015\",\"type\":\"Selection\"},\"selection_policy\":{\"id\":\"2014\",\"type\":\"UnionRenderers\"}},\"id\":\"1979\",\"type\":\"ColumnDataSource\"},{\"attributes\":{},\"id\":\"1917\",\"type\":\"BasicTicker\"},{\"attributes\":{},\"id\":\"2014\",\"type\":\"UnionRenderers\"},{\"attributes\":{\"plot\":{\"id\":\"1901\",\"subtype\":\"Figure\",\"type\":\"Plot\"},\"ticker\":{\"id\":\"1912\",\"type\":\"BasicTicker\"}},\"id\":\"1915\",\"type\":\"Grid\"},{\"attributes\":{\"callback\":null,\"data\":{\"x\":[1832,1833,1834,1835,1836,1837,1838,1839,1840,1841,1842,1843,1844,1845,1846,1847,1848,1849,1850,1851,1852,1853,1854,1855,1856,1857,1858,1859,1860,1861,1862,1863,1864,1865,1866,1867,1868,1869,1870,1871,1872,1873,1874,1875,1876,1877,1878,1879,1880,1881,1882,1883,1884,1885,1886,1887,1888,1889,1890,1891,1892,1893,1894,1895,1896,1897,1898,1899,1900,1901,1902,1903,1904,1905,1906,1907,1908,1909,1910,1911,1912,1913,1914,1915,1916,1917,1918,1919,1920,1921,1922,1923,1924,1925,1926,1927,1928,1929,1930,1931,1932,1933,1934,1935,1936,1937,1938,1939,1940,1941,1942,1943,1944,1945,1946,1947,1948,1949,1950,1951,1952,1953,1954,1955,1956,1957,1958,1959,1960,1961,1962,1963,1964,1965,1966,1967,1968,1969,1970,1971,1972,1973,1974,1975,1976,1977,1978,1979,1980,1981,1982,1983,1984,1985,1986,1987,1988,1989,1990,1991,1992,1993,1994,1995,1996,1997,1998,1999,2000,2001,2002,2003,2004,2005,2006,2007,2008,2009,2010,2011,2012,2013],\"y\":{\"__ndarray__\":\"AAAAAAAA+H8AAAAAAAD4fwAAAAAAAPh/AAAAAAAA+H8AAAAAAAD4fwAAAAAAAPh/AAAAAAAA+H8AAAAAAAD4fwAAAAAAAPh/AAAAAAAA+H8AAAAAAAD4fwAAAAAAAPh/AAAAAAAA+H8AAAAAAAD4fwAAAAAAAPh/AAAAAAAA+H8AAAAAAAD4fwAAAAAAAPh/AAAAAAAA+H8AAAAAAAD4fwAAAAAAAPh/AAAAAAAA+H8AAAAAAAD4fwAAAAAAAPh/AAAAAAAA+H8AAAAAAAD4fwAAAAAAAPh/AAAAAAAA+H8AAAAAAAD4fwAAAAAAAPh/AAAAAAAA+H8AAAAAAAD4fwAAAAAAAPh/AAAAAAAA+H8AAAAAAAD4fwAAAAAAAPh/AAAAAAAA+H8AAAAAAAD4fwAAAAAAAPh/AAAAAAAA+H8AAAAAAAD4fwAAAAAAAPh/AAAAAAAA+H8AAAAAAAD4fwAAAAAAAPh/AAAAAAAA+H8AAAAAAAD4fwAAAAAAAPh/AAAAAAAA+H8AAAAAAAD4fwAAAAAAAPh/AAAAAAAA+H8AAAAAAAD4fwAAAAAAAPh/AAAAAAAA+H8AAAAAAAD4fwAAAAAAAPh/AAAAAAAA+H8AAAAAAAD4fwAAAAAAAPh/AAAAAAAA+H8AAAAAAAD4fwAAAAAAAPh/AAAAAAAA+H8AAAAAAAD4fwAAAAAAAPh/AAAAAAAA+H8AAAAAAAD4f+PyH9JvXzNAyaFFtvNdM0DGBz2bVV8zQFY5tMh2XjNAlf+QfvtaM0CW3ZOHhVozQHMCmggbXjNAyl1LyAddM0DfehSuR2EzQP1D+u3rYDNAyaFFtvNdM0BzApoIG14zQKo+V1uxXzNAo3A9CtdjM0BBz2bV52ozQDaJQWDlcDNAFUhQ/BhzM0DGdr6fGm8zQLM3+MJkajNAez81XrppM0BjqmBUUmczQNfO91PjZTNADum3rwNnM0Cf+DHmrmUzQPO52or9ZTNAJaCJsOFpM0BzcRsN4G0zQHULJCh+bDNAyszMzMxsM0DfC5OpgnEzQNyTh4VaczNAhRbZzvdzM0AhufyH9HszQFqPwvUofDNAbfCFyVSBM0CLuWsJ+YAzQIFRSZ2AhjNASJ2AJsKGM0AuTKYKRoUzQKG0N/jChDNAJOSDns2KM0CRXP5D+o0zQOHHmLuWkDNALCEf9GyWM0B9jLlrCZkzQEP67evAmTNAzRlR2hucM0BdKcsQx5ozQOvAOSNKmzNAnBGlvcGXM0Bhf9k9eZgzQNJNYhBYmTNACiQofoyZM0DpBDQRNpwzQG00gLdAojNAGHPXEvKhM0BT46WbxKAzQIdjXdxGozNAKFyPwvWoM0D9snvysLAzQGoJ+aBnszNAeTarPle7M0C0pnnHKbozQHTgnBGlvTNARnL5D+m3M0Cc76fGS7czQOx8PzVeujNA+e3rwDnDM0CIQWDl0MIzQPcx5q4lxDNAuicPC7XGM0B9+zpwzsgzQAjXo3A9yjNAA8WPMXfNM0D9kH77OtAzQKZXyjLE0TNA/pB++zrQM0APWDm0yNYzQErqBDQR1jNALf8h/fbVM0C5uI0G8NYzQEL67evA2TNAfWq8dJPYM0ABeAskKN4zQFAnoImw4TNAMcSxLm7jM0DXzvdT4+UzQHphMlUw6jNAB/mgZ7PqM0AKk6mCUekzQLTRAN4C6TNA7oXJVMHoM0Bc3EYDeOszQBtaZDvf7zNAaSv2l93zM0Am7Q2+MPkzQCRTBaOS+jNAiB9j7loCNEDwQc9m1Qc0QHilLEMcCzRAkToBTYQNNECeibDh6RU0QMtdS8gHHTRANhrAWyAhNEDhNhrAWyA0QCyyne+nJjRAkToBTYQtNECGFtnO9zM0QGoJ+aBnMzRAhFrTvOM0NEBCHOviNjo0QO8WSFD8ODRAFrfRAN5CNEDEjzF3LUE0QA==\",\"dtype\":\"float64\",\"shape\":[182]}},\"selected\":{\"id\":\"1961\",\"type\":\"Selection\"},\"selection_policy\":{\"id\":\"1960\",\"type\":\"UnionRenderers\"}},\"id\":\"1936\",\"type\":\"ColumnDataSource\"},{\"attributes\":{\"glyph_height\":40,\"glyph_width\":50,\"items\":[{\"id\":\"1948\",\"type\":\"LegendItem\"},{\"id\":\"1962\",\"type\":\"LegendItem\"},{\"id\":\"1978\",\"type\":\"LegendItem\"},{\"id\":\"1996\",\"type\":\"LegendItem\"},{\"id\":\"2016\",\"type\":\"LegendItem\"}],\"label_text_font_size\":{\"value\":\"18pt\"},\"location\":[20,400],\"plot\":{\"id\":\"1901\",\"subtype\":\"Figure\",\"type\":\"Plot\"}},\"id\":\"1947\",\"type\":\"Legend\"},{\"attributes\":{\"data_source\":{\"id\":\"1949\",\"type\":\"ColumnDataSource\"},\"glyph\":{\"id\":\"1950\",\"type\":\"Line\"},\"hover_glyph\":null,\"muted_glyph\":null,\"nonselection_glyph\":{\"id\":\"1951\",\"type\":\"Line\"},\"selection_glyph\":null,\"view\":{\"id\":\"1953\",\"type\":\"CDSView\"}},\"id\":\"1952\",\"type\":\"GlyphRenderer\"},{\"attributes\":{},\"id\":\"1909\",\"type\":\"LinearScale\"},{\"attributes\":{\"callback\":null,\"data\":{\"x\":[1743,1744,1745,1746,1747,1748,1749,1750,1751,1752,1753,1754,1755,1756,1757,1758,1759,1760,1761,1762,1763,1764,1765,1766,1767,1768,1769,1770,1771,1772,1773,1774,1775,1776,1777,1778,1779,1780,1781,1782,1783,1784,1785,1786,1787,1788,1789,1790,1791,1792,1793,1794,1795,1796,1797,1798,1799,1800,1801,1802,1803,1804,1805,1806,1807,1808,1809,1810,1811,1812,1813,1814,1815,1816,1817,1818,1819,1820,1821,1822,1823,1824,1825,1826,1827,1828,1829,1830,1831,1832,1833,1834,1835,1836,1837,1838,1839,1840,1841,1842,1843,1844,1845,1846,1847,1848,1849,1850,1851,1852,1853,1854,1855,1856,1857,1858,1859,1860,1861,1862,1863,1864,1865,1866,1867,1868,1869,1870,1871,1872,1873,1874,1875,1876,1877,1878,1879,1880,1881,1882,1883,1884,1885,1886,1887,1888,1889,1890,1891,1892,1893,1894,1895,1896,1897,1898,1899,1900,1901,1902,1903,1904,1905,1906,1907,1908,1909,1910,1911,1912,1913,1914,1915,1916,1917,1918,1919,1920,1921,1922,1923,1924,1925,1926,1927,1928,1929,1930,1931,1932,1933,1934,1935,1936,1937,1938,1939,1940,1941,1942,1943,1944,1945,1946,1947,1948,1949,1950,1951,1952,1953,1954,1955,1956,1957,1958,1959,1960,1961,1962,1963,1964,1965,1966,1967,1968,1969,1970,1971,1972,1973,1974,1975,1976,1977,1978,1979,1980,1981,1982,1983,1984,1985,1986,1987,1988,1989,1990,1991,1992,1993,1994,1995,1996,1997,1998,1999,2000,2001,2002,2003,2004,2005,2006,2007,2008,2009,2010,2011,2012,2013],\"y\":{\"__ndarray__\":\"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\",\"dtype\":\"float64\",\"shape\":[271]}},\"selected\":{\"id\":\"1977\",\"type\":\"Selection\"},\"selection_policy\":{\"id\":\"1976\",\"type\":\"UnionRenderers\"}},\"id\":\"1949\",\"type\":\"ColumnDataSource\"},{\"attributes\":{\"callback\":null},\"id\":\"1903\",\"type\":\"DataRange1d\"},{\"attributes\":{\"line_alpha\":0.1,\"line_color\":\"#1f77b4\",\"line_width\":5,\"x\":{\"field\":\"x\"},\"y\":{\"field\":\"y\"}},\"id\":\"1951\",\"type\":\"Line\"},{\"attributes\":{\"bottom_units\":\"screen\",\"fill_alpha\":{\"value\":0.5},\"fill_color\":{\"value\":\"lightgrey\"},\"left_units\":\"screen\",\"level\":\"overlay\",\"line_alpha\":{\"value\":1.0},\"line_color\":{\"value\":\"black\"},\"line_dash\":[4,4],\"line_width\":{\"value\":2},\"plot\":null,\"render_mode\":\"css\",\"right_units\":\"screen\",\"top_units\":\"screen\"},\"id\":\"1929\",\"type\":\"BoxAnnotation\"},{\"attributes\":{\"label\":{\"value\":\"Berlin\"},\"renderers\":[{\"id\":\"1952\",\"type\":\"GlyphRenderer\"}]},\"id\":\"1962\",\"type\":\"LegendItem\"},{\"attributes\":{\"data_source\":{\"id\":\"1963\",\"type\":\"ColumnDataSource\"},\"glyph\":{\"id\":\"1964\",\"type\":\"Line\"},\"hover_glyph\":null,\"muted_glyph\":null,\"nonselection_glyph\":{\"id\":\"1965\",\"type\":\"Line\"},\"selection_glyph\":null,\"view\":{\"id\":\"1967\",\"type\":\"CDSView\"}},\"id\":\"1966\",\"type\":\"GlyphRenderer\"},{\"attributes\":{},\"id\":\"1976\",\"type\":\"UnionRenderers\"},{\"attributes\":{\"source\":{\"id\":\"1979\",\"type\":\"ColumnDataSource\"}},\"id\":\"1983\",\"type\":\"CDSView\"},{\"attributes\":{},\"id\":\"1961\",\"type\":\"Selection\"},{\"attributes\":{},\"id\":\"1944\",\"type\":\"BasicTickFormatter\"},{\"attributes\":{\"label\":{\"value\":\"Brisbane\"},\"renderers\":[{\"id\":\"1966\",\"type\":\"GlyphRenderer\"}]},\"id\":\"1978\",\"type\":\"LegendItem\"},{\"attributes\":{\"callback\":null},\"id\":\"1905\",\"type\":\"DataRange1d\"},{\"attributes\":{},\"id\":\"1907\",\"type\":\"LinearScale\"},{\"attributes\":{\"plot\":null,\"text\":\"Global and Cities Weather Trends\",\"text_font_size\":{\"value\":\"24pt\"}},\"id\":\"1900\",\"type\":\"Title\"},{\"attributes\":{},\"id\":\"1960\",\"type\":\"UnionRenderers\"},{\"attributes\":{\"line_alpha\":0.1,\"line_color\":\"#1f77b4\",\"line_width\":5,\"x\":{\"field\":\"x\"},\"y\":{\"field\":\"y\"}},\"id\":\"1965\",\"type\":\"Line\"}],\"root_ids\":[\"1901\"]},\"title\":\"Bokeh Application\",\"version\":\"1.0.1\"}};\n",
       "  var render_items = [{\"docid\":\"938000a7-b785-4862-8cbe-75e53689b1ab\",\"roots\":{\"1901\":\"1bc4b9a7-1411-4217-907e-eebe650f2de2\"}}];\n",
       "  root.Bokeh.embed.embed_items_notebook(docs_json, render_items);\n",
       "\n",
       "  }\n",
       "  if (root.Bokeh !== undefined) {\n",
       "    embed_document(root);\n",
       "  } else {\n",
       "    var attempts = 0;\n",
       "    var timer = setInterval(function(root) {\n",
       "      if (root.Bokeh !== undefined) {\n",
       "        embed_document(root);\n",
       "        clearInterval(timer);\n",
       "      }\n",
       "      attempts++;\n",
       "      if (attempts > 100) {\n",
       "        console.log(\"Bokeh: ERROR: Unable to run BokehJS code because BokehJS library is missing\");\n",
       "        clearInterval(timer);\n",
       "      }\n",
       "    }, 10, root)\n",
       "  }\n",
       "})(window);"
      ],
      "application/vnd.bokehjs_exec.v0+json": ""
     },
     "metadata": {
      "application/vnd.bokehjs_exec.v0+json": {
       "id": "1901"
      }
     },
     "output_type": "display_data"
    }
   ],
   "source": [
    "p = figure(plot_width=1000, plot_height=800, title=\"Global and Cities Weather Trends\")\n",
    "\n",
    "p.line(guarulhos['year'], guarulhos['moving_averages'],\n",
    "       color=\"navy\", alpha=0.8, legend=\"Guarulhos\", line_width=5)\n",
    "\n",
    "p.line(berlin['year'], berlin['moving_averages'],\n",
    "       color=\"tomato\", alpha=0.8, legend=\"Berlin\", line_width=5)\n",
    "\n",
    "p.line(brisbane['year'], brisbane['moving_averages'],\n",
    "       color=\"seagreen\", alpha=0.8, legend=\"Brisbane\", line_width=5)\n",
    "\n",
    "p.line(toronto['year'], toronto['moving_averages'],\n",
    "       color=\"darkmagenta\", alpha=0.8, legend=\"Toronto\", line_width=5)\n",
    "\n",
    "p.line(global_data['year'], global_data['moving_averages'],\n",
    "       color=\"firebrick\", alpha=0.8, legend=\"Global\", line_width=5)\n",
    "\n",
    "p.xaxis.axis_label = \"Year\"\n",
    "p.yaxis.axis_label = \"Average Temperature\"\n",
    "p.legend.location = (20,400)\n",
    "\n",
    "p.title.text_font_size = '24pt'\n",
    "p.xaxis.axis_label_text_font_size = '18pt'\n",
    "p.yaxis.axis_label_text_font_size = '18pt'\n",
    "p.xaxis.major_label_text_font_size = '18pt'\n",
    "p.yaxis.major_label_text_font_size = '18pt'\n",
    "p.legend.label_text_font_size = '18pt'\n",
    "p.legend.glyph_width = 50\n",
    "p.legend.glyph_height = 40\n",
    "\n",
    "show(p)"
   ]
  },
  {
   "cell_type": "code",
   "execution_count": 16,
   "metadata": {},
   "outputs": [],
   "source": [
    "pre_guarulhos = guarulhos[['year', 'avg_temp']]\n",
    "pre_guarulhos.columns = ['year', 'guarulhos']\n",
    "\n",
    "pre_berlin = berlin[['year', 'avg_temp']]\n",
    "pre_berlin.columns = ['year', 'berlin']\n",
    "\n",
    "pre_brisbane = brisbane[['year', 'avg_temp']]\n",
    "pre_brisbane.columns = ['year', 'brisbane']\n",
    "\n",
    "pre_toronto = toronto[['year', 'avg_temp']]\n",
    "pre_toronto.columns = ['year', 'toronto']\n",
    "\n",
    "pre_global = global_data[['year', 'avg_temp']]\n",
    "pre_global.columns = ['year', 'global']\n",
    "\n",
    "temperature_data = (pre_global.merge(pre_berlin, how='outer', on='year')\n",
    "                      .merge(pre_brisbane, how='outer', on='year')\n",
    "                      .merge(pre_guarulhos, how='outer', on='year')\n",
    "                      .merge(pre_toronto, how='outer', on='year'))"
   ]
  },
  {
   "cell_type": "code",
   "execution_count": 17,
   "metadata": {},
   "outputs": [
    {
     "data": {
      "text/html": [
       "<div>\n",
       "<style scoped>\n",
       "    .dataframe tbody tr th:only-of-type {\n",
       "        vertical-align: middle;\n",
       "    }\n",
       "\n",
       "    .dataframe tbody tr th {\n",
       "        vertical-align: top;\n",
       "    }\n",
       "\n",
       "    .dataframe thead th {\n",
       "        text-align: right;\n",
       "    }\n",
       "</style>\n",
       "<table border=\"1\" class=\"dataframe\">\n",
       "  <thead>\n",
       "    <tr style=\"text-align: right;\">\n",
       "      <th></th>\n",
       "      <th>global</th>\n",
       "      <th>guarulhos</th>\n",
       "    </tr>\n",
       "  </thead>\n",
       "  <tbody>\n",
       "    <tr>\n",
       "      <th>global</th>\n",
       "      <td>1.000000</td>\n",
       "      <td>0.794454</td>\n",
       "    </tr>\n",
       "    <tr>\n",
       "      <th>guarulhos</th>\n",
       "      <td>0.794454</td>\n",
       "      <td>1.000000</td>\n",
       "    </tr>\n",
       "  </tbody>\n",
       "</table>\n",
       "</div>"
      ],
      "text/plain": [
       "             global  guarulhos\n",
       "global     1.000000   0.794454\n",
       "guarulhos  0.794454   1.000000"
      ]
     },
     "execution_count": 17,
     "metadata": {},
     "output_type": "execute_result"
    }
   ],
   "source": [
    "data_to_correlate = temperature_data[['global', 'guarulhos']]\n",
    "data_to_correlate = data_to_correlate.dropna()\n",
    "data_to_correlate.corr(method='pearson')"
   ]
  },
  {
   "cell_type": "code",
   "execution_count": null,
   "metadata": {},
   "outputs": [],
   "source": [
    "olar = all_data[['global', 'guarulhos']]\n",
    "olar = olar.dropna()\n",
    "(olar['guarulhos'] - olar['global']).mean()"
   ]
  },
  {
   "cell_type": "code",
   "execution_count": null,
   "metadata": {},
   "outputs": [],
   "source": [
    "olar = all_data[['global', 'guarulhos']]\n",
    "olar = olar.dropna()\n",
    "print(olar['guarulhos'].iloc[-1] - olar['guarulhos'].iloc[0])\n",
    "print(olar['global'].iloc[-1] - olar['global'].iloc[0])"
   ]
  },
  {
   "cell_type": "code",
   "execution_count": null,
   "metadata": {},
   "outputs": [],
   "source": [
    "olar = all_data[['year', 'global', 'guarulhos']]\n",
    "print('minimo global = ', olar['global'].min())\n",
    "print('minimo guarulhos = ', olar['guarulhos'].min())\n",
    "print('maximo global = ', olar['global'].max())\n",
    "print('maximo global = ', olar['guarulhos'].max())"
   ]
  },
  {
   "cell_type": "code",
   "execution_count": null,
   "metadata": {},
   "outputs": [],
   "source": [
    "# olar.loc[olar['global'].min() == olar['global']]\n",
    "olar.loc[olar['year'] == olar['guarulhos']]"
   ]
  },
  {
   "cell_type": "code",
   "execution_count": null,
   "metadata": {},
   "outputs": [],
   "source": [
    "olar = all_data[['global', 'guarulhos']]\n",
    "olar = olar.dropna()\n",
    "olar.corr(method='pearson')"
   ]
  },
  {
   "cell_type": "code",
   "execution_count": 14,
   "metadata": {},
   "outputs": [],
   "source": [
    "olar = all_data[['year', 'global', 'guarulhos']]"
   ]
  },
  {
   "cell_type": "code",
   "execution_count": 8,
   "metadata": {},
   "outputs": [
    {
     "name": "stdout",
     "output_type": "stream",
     "text": [
      "Global average temperature increased: 1.367  degrees Celsius\n",
      "Global average temperature increased: 1.279  degrees Celsius\n"
     ]
    }
   ],
   "source": [
    "# gets the data from the last available 150 years\n",
    "initial_year_glo = global_data.loc[global_data['year'] == 1913]\n",
    "final_year_glo = global_data.loc[global_data['year'] == 2013]\n",
    "\n",
    "initial_year_gua = guarulhos.loc[guarulhos['year'] == 1913]\n",
    "final_year_gua = guarulhos.loc[guarulhos['year'] == 2013]\n",
    "\n",
    "# calculate the difference between the average temperatures\n",
    "diff_global = final_year_glo.iloc[0]['moving_averages'] - initial_year_glo.iloc[0]['moving_averages']\n",
    "diff_guarulhos = final_year_gua.iloc[0]['moving_averages'] - initial_year_gua.iloc[0]['moving_averages']\n",
    "\n",
    "print(\"Global average temperature increased:\", diff_global, \" degrees Celsius\")\n",
    "print(\"Global average temperature increased:\", diff_guarulhos, \" degrees Celsius\")"
   ]
  },
  {
   "cell_type": "code",
   "execution_count": 14,
   "metadata": {},
   "outputs": [],
   "source": [
    "pre_ma_global = global_data[['year', 'moving_averages']]\n",
    "pre_ma_global.columns = ['year', 'global']\n",
    "\n",
    "pre_ma_guarulhos = guarulhos[['year', 'moving_averages']]\n",
    "pre_ma_guarulhos.columns = ['year', 'guarulhos']\n",
    "\n",
    "\n",
    "mas = pre_ma_global.merge(pre_ma_guarulhos, how='outer', on='year')"
   ]
  },
  {
   "cell_type": "code",
   "execution_count": 30,
   "metadata": {},
   "outputs": [],
   "source": [
    "mas = mas.dropna()\n",
    "all_differences = pd.DataFrame(mas['guarulhos'] - mas['global'], columns=['differences'])\n",
    "all_differences = all_differences.join(pd.DataFrame(mas['year'], columns=['year']))"
   ]
  },
  {
   "cell_type": "code",
   "execution_count": 32,
   "metadata": {},
   "outputs": [
    {
     "data": {
      "text/html": [
       "\n",
       "\n",
       "\n",
       "\n",
       "\n",
       "\n",
       "  <div class=\"bk-root\" id=\"b21c1493-9461-494e-8fdb-c6686fd9abdb\"></div>\n"
      ]
     },
     "metadata": {},
     "output_type": "display_data"
    },
    {
     "data": {
      "application/javascript": [
       "(function(root) {\n",
       "  function embed_document(root) {\n",
       "    \n",
       "  var docs_json = {\"05577be2-befd-48f8-bc40-83b252db67a1\":{\"roots\":{\"references\":[{\"attributes\":{\"below\":[{\"id\":\"1655\",\"type\":\"LinearAxis\"}],\"left\":[{\"id\":\"1660\",\"type\":\"LinearAxis\"}],\"plot_height\":400,\"renderers\":[{\"id\":\"1655\",\"type\":\"LinearAxis\"},{\"id\":\"1659\",\"type\":\"Grid\"},{\"id\":\"1660\",\"type\":\"LinearAxis\"},{\"id\":\"1664\",\"type\":\"Grid\"},{\"id\":\"1673\",\"type\":\"BoxAnnotation\"},{\"id\":\"1691\",\"type\":\"Legend\"},{\"id\":\"1683\",\"type\":\"GlyphRenderer\"}],\"title\":{\"id\":\"1644\",\"type\":\"Title\"},\"toolbar\":{\"id\":\"1671\",\"type\":\"Toolbar\"},\"x_range\":{\"id\":\"1647\",\"type\":\"DataRange1d\"},\"x_scale\":{\"id\":\"1651\",\"type\":\"LinearScale\"},\"y_range\":{\"id\":\"1649\",\"type\":\"DataRange1d\"},\"y_scale\":{\"id\":\"1653\",\"type\":\"LinearScale\"}},\"id\":\"1645\",\"subtype\":\"Figure\",\"type\":\"Plot\"},{\"attributes\":{\"callback\":null},\"id\":\"1649\",\"type\":\"DataRange1d\"},{\"attributes\":{},\"id\":\"1669\",\"type\":\"ResetTool\"},{\"attributes\":{\"callback\":null,\"data\":{\"x\":[1841,1842,1843,1860,1861,1862,1863,1864,1865,1866,1867,1868,1869,1870,1871,1872,1873,1874,1875,1876,1877,1878,1879,1880,1881,1882,1883,1884,1885,1886,1887,1888,1889,1890,1891,1892,1893,1894,1895,1896,1897,1898,1899,1900,1901,1902,1903,1904,1905,1906,1907,1908,1909,1910,1911,1912,1913,1914,1915,1916,1917,1918,1919,1920,1921,1922,1923,1924,1925,1926,1927,1928,1929,1930,1931,1932,1933,1934,1935,1936,1937,1938,1939,1940,1941,1942,1943,1944,1945,1946,1947,1948,1949,1950,1951,1952,1953,1954,1955,1956,1957,1958,1959,1960,1961,1962,1963,1964,1965,1966,1967,1968,1969,1970,1971,1972,1973,1974,1975,1976,1977,1978,1979,1980,1981,1982,1983,1984,1985,1986,1987,1988,1989,1990,1991,1992,1993,1994,1995,1996,1997,1998,1999,2000,2001,2002,2003,2004,2005,2006,2007,2008,2009,2010,2011,2012,2013],\"y\":{\"__ndarray__\":\"sHJoke18JkAzMzMzM3MmQGzn+6nxUiZAfD81XrqJJkDeJAaBlYMmQBsv3SQGgSZAnJmZmZlZJkAeL90kBkEmQNijcD0KFyZA9NJNYhAYJkB76SYxCOwlQOXQItv5PiZA9P3UeOlmJkBEi2zn+2kmQMqhRbbzfSZAPQrXo3B9JkBU46WbxKAmQOj7qfHSjSZAFK5H4XqUJkAoMQisHJomQNv5fmq8tCZAHVpkO9+PJkCU7Xw/NV4mQG7n+6nxUiZA9yhcj8I1JkCH61G4HgUmQLfz/dR46SVAjpduEoMAJkCom8QgsDImQPkoXI/CNSZAxfUoXI9CJkAisHJokW0mQNrO91PjpSZAOIlBYOWQJkA930+Nl64mQOr7qfHSzSZANjMzMzOzJkDo0CLb+b4mQMhLN4lBoCZAIrByaJGtJkB4vp8aL50mQHwUrkfheiZAYeXQItt5JkDtfD81XnomQJduEoPASiZAiUFg5dBiJkAkBoGVQ4smQJ/vp8ZLdyZAJNv5fmp8JkD4KFyPwnUmQIfAyqFFdiZAUDeJQWBlJkAvhxbZzjcmQLrz/dR4KSZAbJHtfD81JkA7tMh2vh8mQEaLbOf7KSZAMd0kBoFVJkB4vp8aL10mQPX91HjpZiZAsHJoke08JkAcL90kBkEmQMCfGi/dZCZAp5vEILByJkByPQrXo3AmQHVoke18fyZAGQRWDi1yJkAPWDm0yDYmQEFg5dAiGyZAdpMYBFYOJkA830+Nly4mQP7/////PyZAyaFFtvM9JkAkBoGVQ0smQMD1KFyPQiZAaLx0kxhEJkAoXI/C9SgmQGEQWDm0SCZAhhbZzvdTJkAmXI/C9WgmQOYmMQisXCZAarx0kxhEJkBnke18PzUmQJRDi2znOyZAo3A9CtdjJkDup8ZLN0kmQC3dJAaBVSZAqPHSTWJQJkCE61G4HkUmQNNNYhBYOSZAgJVDi2wnJkAX2c73UyMmQDeJQWDlECZAJAaBlUMLJkBlZmZmZuYlQA9YObTI9iVANF66SQwCJkDM91PjpRsmQPLSTWIQGCZAJAaBlUMLJkAwCKwcWiQmQCyyne+nRiZAnu+nxkt3JkCkcD0K12MmQEJg5dAimyZA7FG4HoVrJkDD9Shcj4ImQJuZmZmZWSZA9ihcj8J1JkBSuB6F65EmQAiBlUOLrCZAPwrXo3B9JkAZBFYOLXImQHNoke18fyZA4XoUrkdhJkAW2c73U6MmQKJFtvP9lCZAgpVDi2ynJkD7fmq8dJMmQObQItv5fiZAKDEIrByaJkDUTWIQWLkmQEJg5dAimyZA9NJNYhCYJkAcL90kBoEmQHI9CtejcCZAwJ8aL91kJkC7SQwCK4cmQPHSTWIQmCZANDMzMzOzJkDgT42XbpImQCyHFtnOdyZAlBgEVg5tJkBV46WbxGAmQHjpJjEIbCZAyna+nxpvJkBaZDvfT40mQKEaL90khiZAWjm0yHZ+JkClcD0K12MmQMt2vp8abyZAMLKd76eGJkC9SQwCK4cmQA3Xo3A9iiZAKlyPwvWoJkALrBxaZLsmQIOVQ4tspyZAUGIQWDl0JkBgukkMAmsmQIKVQ4tsZyZAFK5H4XpUJkD//////z8mQLTIdr6fWiZALt0kBoFVJkBWDi2ynS8mQDEIrBxaJCZArnJoke38JUA=\",\"dtype\":\"float64\",\"shape\":[157]}},\"selected\":{\"id\":\"1741\",\"type\":\"Selection\"},\"selection_policy\":{\"id\":\"1742\",\"type\":\"UnionRenderers\"}},\"id\":\"1680\",\"type\":\"ColumnDataSource\"},{\"attributes\":{},\"id\":\"1742\",\"type\":\"UnionRenderers\"},{\"attributes\":{\"data_source\":{\"id\":\"1680\",\"type\":\"ColumnDataSource\"},\"glyph\":{\"id\":\"1681\",\"type\":\"Line\"},\"hover_glyph\":null,\"muted_glyph\":null,\"nonselection_glyph\":{\"id\":\"1682\",\"type\":\"Line\"},\"selection_glyph\":null,\"view\":{\"id\":\"1684\",\"type\":\"CDSView\"}},\"id\":\"1683\",\"type\":\"GlyphRenderer\"},{\"attributes\":{\"axis_label\":\"Year\",\"formatter\":{\"id\":\"1688\",\"type\":\"BasicTickFormatter\"},\"plot\":{\"id\":\"1645\",\"subtype\":\"Figure\",\"type\":\"Plot\"},\"ticker\":{\"id\":\"1656\",\"type\":\"BasicTicker\"}},\"id\":\"1655\",\"type\":\"LinearAxis\"},{\"attributes\":{\"bottom_units\":\"screen\",\"fill_alpha\":{\"value\":0.5},\"fill_color\":{\"value\":\"lightgrey\"},\"left_units\":\"screen\",\"level\":\"overlay\",\"line_alpha\":{\"value\":1.0},\"line_color\":{\"value\":\"black\"},\"line_dash\":[4,4],\"line_width\":{\"value\":2},\"plot\":null,\"render_mode\":\"css\",\"right_units\":\"screen\",\"top_units\":\"screen\"},\"id\":\"1673\",\"type\":\"BoxAnnotation\"},{\"attributes\":{},\"id\":\"1656\",\"type\":\"BasicTicker\"},{\"attributes\":{\"dimension\":1,\"plot\":{\"id\":\"1645\",\"subtype\":\"Figure\",\"type\":\"Plot\"},\"ticker\":{\"id\":\"1661\",\"type\":\"BasicTicker\"}},\"id\":\"1664\",\"type\":\"Grid\"},{\"attributes\":{\"source\":{\"id\":\"1680\",\"type\":\"ColumnDataSource\"}},\"id\":\"1684\",\"type\":\"CDSView\"},{\"attributes\":{},\"id\":\"1688\",\"type\":\"BasicTickFormatter\"},{\"attributes\":{},\"id\":\"1670\",\"type\":\"HelpTool\"},{\"attributes\":{},\"id\":\"1651\",\"type\":\"LinearScale\"},{\"attributes\":{},\"id\":\"1668\",\"type\":\"SaveTool\"},{\"attributes\":{},\"id\":\"1666\",\"type\":\"WheelZoomTool\"},{\"attributes\":{\"line_alpha\":0.8,\"line_color\":\"navy\",\"line_width\":4,\"x\":{\"field\":\"x\"},\"y\":{\"field\":\"y\"}},\"id\":\"1681\",\"type\":\"Line\"},{\"attributes\":{\"items\":[{\"id\":\"1692\",\"type\":\"LegendItem\"}],\"location\":[20,250],\"plot\":{\"id\":\"1645\",\"subtype\":\"Figure\",\"type\":\"Plot\"}},\"id\":\"1691\",\"type\":\"Legend\"},{\"attributes\":{},\"id\":\"1665\",\"type\":\"PanTool\"},{\"attributes\":{},\"id\":\"1686\",\"type\":\"BasicTickFormatter\"},{\"attributes\":{\"active_drag\":\"auto\",\"active_inspect\":\"auto\",\"active_multi\":null,\"active_scroll\":\"auto\",\"active_tap\":\"auto\",\"tools\":[{\"id\":\"1665\",\"type\":\"PanTool\"},{\"id\":\"1666\",\"type\":\"WheelZoomTool\"},{\"id\":\"1667\",\"type\":\"BoxZoomTool\"},{\"id\":\"1668\",\"type\":\"SaveTool\"},{\"id\":\"1669\",\"type\":\"ResetTool\"},{\"id\":\"1670\",\"type\":\"HelpTool\"}]},\"id\":\"1671\",\"type\":\"Toolbar\"},{\"attributes\":{},\"id\":\"1741\",\"type\":\"Selection\"},{\"attributes\":{\"plot\":null,\"text\":\"Global and Guarulhos differences between temperatures\"},\"id\":\"1644\",\"type\":\"Title\"},{\"attributes\":{\"plot\":{\"id\":\"1645\",\"subtype\":\"Figure\",\"type\":\"Plot\"},\"ticker\":{\"id\":\"1656\",\"type\":\"BasicTicker\"}},\"id\":\"1659\",\"type\":\"Grid\"},{\"attributes\":{},\"id\":\"1661\",\"type\":\"BasicTicker\"},{\"attributes\":{\"axis_label\":\"Average Temperature\",\"formatter\":{\"id\":\"1686\",\"type\":\"BasicTickFormatter\"},\"plot\":{\"id\":\"1645\",\"subtype\":\"Figure\",\"type\":\"Plot\"},\"ticker\":{\"id\":\"1661\",\"type\":\"BasicTicker\"}},\"id\":\"1660\",\"type\":\"LinearAxis\"},{\"attributes\":{\"label\":{\"value\":\"Guarulhos\"},\"renderers\":[{\"id\":\"1683\",\"type\":\"GlyphRenderer\"}]},\"id\":\"1692\",\"type\":\"LegendItem\"},{\"attributes\":{\"line_alpha\":0.1,\"line_color\":\"#1f77b4\",\"line_width\":4,\"x\":{\"field\":\"x\"},\"y\":{\"field\":\"y\"}},\"id\":\"1682\",\"type\":\"Line\"},{\"attributes\":{\"callback\":null},\"id\":\"1647\",\"type\":\"DataRange1d\"},{\"attributes\":{\"overlay\":{\"id\":\"1673\",\"type\":\"BoxAnnotation\"}},\"id\":\"1667\",\"type\":\"BoxZoomTool\"},{\"attributes\":{},\"id\":\"1653\",\"type\":\"LinearScale\"}],\"root_ids\":[\"1645\"]},\"title\":\"Bokeh Application\",\"version\":\"1.0.1\"}};\n",
       "  var render_items = [{\"docid\":\"05577be2-befd-48f8-bc40-83b252db67a1\",\"roots\":{\"1645\":\"b21c1493-9461-494e-8fdb-c6686fd9abdb\"}}];\n",
       "  root.Bokeh.embed.embed_items_notebook(docs_json, render_items);\n",
       "\n",
       "  }\n",
       "  if (root.Bokeh !== undefined) {\n",
       "    embed_document(root);\n",
       "  } else {\n",
       "    var attempts = 0;\n",
       "    var timer = setInterval(function(root) {\n",
       "      if (root.Bokeh !== undefined) {\n",
       "        embed_document(root);\n",
       "        clearInterval(timer);\n",
       "      }\n",
       "      attempts++;\n",
       "      if (attempts > 100) {\n",
       "        console.log(\"Bokeh: ERROR: Unable to run BokehJS code because BokehJS library is missing\");\n",
       "        clearInterval(timer);\n",
       "      }\n",
       "    }, 10, root)\n",
       "  }\n",
       "})(window);"
      ],
      "application/vnd.bokehjs_exec.v0+json": ""
     },
     "metadata": {
      "application/vnd.bokehjs_exec.v0+json": {
       "id": "1645"
      }
     },
     "output_type": "display_data"
    }
   ],
   "source": [
    "# Create line chart\n",
    "\n",
    "p = figure(plot_width=600, plot_height=400, title=\"Global and Guarulhos differences between temperatures\")\n",
    "\n",
    "p.line(all_differences['year'], all_differences['differences'], color=\"navy\", alpha=0.8, legend=\"Guarulhos\", line_width=4)\n",
    "p.xaxis.axis_label = \"Year\"\n",
    "p.yaxis.axis_label = \"Average Temperature\"\n",
    "p.legend.location = (20,250)\n",
    "\n",
    "show(p)"
   ]
  },
  {
   "cell_type": "code",
   "execution_count": 10,
   "metadata": {},
   "outputs": [
    {
     "name": "stdout",
     "output_type": "stream",
     "text": [
      "Automatic pdb calling has been turned ON\n"
     ]
    }
   ],
   "source": [
    "%pdb"
   ]
  }
 ],
 "metadata": {
  "kernelspec": {
   "display_name": "Python 3",
   "language": "python",
   "name": "python3"
  },
  "language_info": {
   "codemirror_mode": {
    "name": "ipython",
    "version": 3
   },
   "file_extension": ".py",
   "mimetype": "text/x-python",
   "name": "python",
   "nbconvert_exporter": "python",
   "pygments_lexer": "ipython3",
   "version": "3.6.3"
  },
  "latex_envs": {
   "LaTeX_envs_menu_present": true,
   "autoclose": false,
   "autocomplete": true,
   "bibliofile": "biblio.bib",
   "cite_by": "apalike",
   "current_citInitial": 1,
   "eqLabelWithNumbers": true,
   "eqNumInitial": 1,
   "hotkeys": {
    "equation": "Ctrl-E",
    "itemize": "Ctrl-I"
   },
   "labels_anchors": false,
   "latex_user_defs": false,
   "report_style_numbering": false,
   "user_envs_cfg": false
  }
 },
 "nbformat": 4,
 "nbformat_minor": 2
}
